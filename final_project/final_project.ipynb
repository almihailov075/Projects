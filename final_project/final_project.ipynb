{
 "cells": [
  {
   "cell_type": "markdown",
   "metadata": {},
   "source": [
    "# ЗАДАЧА"
   ]
  },
  {
   "cell_type": "markdown",
   "metadata": {},
   "source": [
    "Представьте, что вы работаете в крупном дейтинговом приложении.\n",
    "    \n",
    "Помимо базовых функций, в приложении также имеется премиум-подписка, которая дает доступ к ряду важных дополнительных возможностей. Был проведен A/B тест, в рамках которого для новых пользователей из нескольких стран была изменена стоимость премиум-подписки* при покупке через две новые платежные системы. При этом стоимость пробного периода оставалась прежней."
   ]
  },
  {
   "cell_type": "markdown",
   "metadata": {},
   "source": [
    "Проверьте:\n",
    "\n",
    "- Был ли эксперимент успешен в целом.\n",
    "- Проанализируйте, имеет ли нововведение смысл среди каких-либо конкретных групп пользователей."
   ]
  },
  {
   "cell_type": "markdown",
   "metadata": {},
   "source": [
    "___"
   ]
  },
  {
   "cell_type": "markdown",
   "metadata": {},
   "source": [
    "## _План решения:_"
   ]
  },
  {
   "cell_type": "markdown",
   "metadata": {},
   "source": [
    "1. Анализ данных\n",
    "        1.1 Анализ данных таблиц users\n",
    "        1.2 Анализ данных таблиц transactions\n",
    "2. Проведение А/А теста\n",
    "3. Проведение А/В теста\n",
    "4. Поиск сегментов\n",
    "5. Итоги"
   ]
  },
  {
   "cell_type": "code",
   "execution_count": 279,
   "metadata": {},
   "outputs": [],
   "source": [
    "import pandas as pd\n",
    "import numpy as np\n",
    "from scipy import stats\n",
    "import matplotlib.pyplot as plt\n",
    "from tqdm.auto import tqdm\n",
    "from scipy.stats import chi2_contingency"
   ]
  },
  {
   "cell_type": "code",
   "execution_count": 280,
   "metadata": {},
   "outputs": [],
   "source": [
    "users_test = pd.read_csv('users_test.csv', sep=';')\n",
    "users_control_1 = pd.read_csv('users_control_1.csv', sep=';')\n",
    "users_control_2 = pd.read_csv('users_control_2.csv', sep=';')\n",
    "transactions_test = pd.read_csv('transactions_test.csv', sep=';', parse_dates=[2, 3])\n",
    "transactions_control_1 = pd.read_csv('transactions_control_1.csv', sep=';', parse_dates=[2, 3])\n",
    "transactions_control_2 = pd.read_csv('transactions_control_2.csv', sep=';', parse_dates=[2, 3])"
   ]
  },
  {
   "cell_type": "code",
   "execution_count": 281,
   "metadata": {},
   "outputs": [
    {
     "data": {
      "text/html": [
       "<div>\n",
       "<style scoped>\n",
       "    .dataframe tbody tr th:only-of-type {\n",
       "        vertical-align: middle;\n",
       "    }\n",
       "\n",
       "    .dataframe tbody tr th {\n",
       "        vertical-align: top;\n",
       "    }\n",
       "\n",
       "    .dataframe thead th {\n",
       "        text-align: right;\n",
       "    }\n",
       "</style>\n",
       "<table border=\"1\" class=\"dataframe\">\n",
       "  <thead>\n",
       "    <tr style=\"text-align: right;\">\n",
       "      <th></th>\n",
       "      <th>uid</th>\n",
       "      <th>age</th>\n",
       "      <th>attraction_coeff</th>\n",
       "      <th>coins</th>\n",
       "      <th>country</th>\n",
       "      <th>visit_days</th>\n",
       "      <th>gender</th>\n",
       "      <th>age_filter_start</th>\n",
       "      <th>age_filter_end</th>\n",
       "      <th>views_count</th>\n",
       "      <th>was_premium</th>\n",
       "      <th>is_premium</th>\n",
       "      <th>total_revenue</th>\n",
       "    </tr>\n",
       "  </thead>\n",
       "  <tbody>\n",
       "    <tr>\n",
       "      <th>0</th>\n",
       "      <td>892309896</td>\n",
       "      <td>27</td>\n",
       "      <td>685</td>\n",
       "      <td>NaN</td>\n",
       "      <td>United States of America</td>\n",
       "      <td>1,2,3,4,5,6,7,8,9,10,11,12,16,17</td>\n",
       "      <td>1</td>\n",
       "      <td>24</td>\n",
       "      <td>30</td>\n",
       "      <td>89</td>\n",
       "      <td>NaN</td>\n",
       "      <td>NaN</td>\n",
       "      <td>0</td>\n",
       "    </tr>\n",
       "    <tr>\n",
       "      <th>1</th>\n",
       "      <td>892044516</td>\n",
       "      <td>27</td>\n",
       "      <td>0</td>\n",
       "      <td>NaN</td>\n",
       "      <td>Germany</td>\n",
       "      <td>NaN</td>\n",
       "      <td>1</td>\n",
       "      <td>24</td>\n",
       "      <td>30</td>\n",
       "      <td>0</td>\n",
       "      <td>NaN</td>\n",
       "      <td>NaN</td>\n",
       "      <td>0</td>\n",
       "    </tr>\n",
       "    <tr>\n",
       "      <th>2</th>\n",
       "      <td>892185708</td>\n",
       "      <td>45</td>\n",
       "      <td>44</td>\n",
       "      <td>NaN</td>\n",
       "      <td>Israel</td>\n",
       "      <td>1,3,4,6,7,8,10,11,12,13,14,15,16,17,18,19,20,2...</td>\n",
       "      <td>1</td>\n",
       "      <td>42</td>\n",
       "      <td>48</td>\n",
       "      <td>68</td>\n",
       "      <td>NaN</td>\n",
       "      <td>NaN</td>\n",
       "      <td>0</td>\n",
       "    </tr>\n",
       "    <tr>\n",
       "      <th>3</th>\n",
       "      <td>892130292</td>\n",
       "      <td>32</td>\n",
       "      <td>0</td>\n",
       "      <td>NaN</td>\n",
       "      <td>United States of America</td>\n",
       "      <td>1,2,3,4,5,6,7,8,9,10,11,12</td>\n",
       "      <td>1</td>\n",
       "      <td>29</td>\n",
       "      <td>35</td>\n",
       "      <td>0</td>\n",
       "      <td>NaN</td>\n",
       "      <td>NaN</td>\n",
       "      <td>0</td>\n",
       "    </tr>\n",
       "    <tr>\n",
       "      <th>4</th>\n",
       "      <td>891406035</td>\n",
       "      <td>27</td>\n",
       "      <td>1000</td>\n",
       "      <td>NaN</td>\n",
       "      <td>France</td>\n",
       "      <td>NaN</td>\n",
       "      <td>1</td>\n",
       "      <td>24</td>\n",
       "      <td>30</td>\n",
       "      <td>1</td>\n",
       "      <td>1.0</td>\n",
       "      <td>NaN</td>\n",
       "      <td>0</td>\n",
       "    </tr>\n",
       "  </tbody>\n",
       "</table>\n",
       "</div>"
      ],
      "text/plain": [
       "         uid  age  attraction_coeff  coins                   country  \\\n",
       "0  892309896   27               685    NaN  United States of America   \n",
       "1  892044516   27                 0    NaN                   Germany   \n",
       "2  892185708   45                44    NaN                    Israel   \n",
       "3  892130292   32                 0    NaN  United States of America   \n",
       "4  891406035   27              1000    NaN                    France   \n",
       "\n",
       "                                          visit_days  gender  \\\n",
       "0                   1,2,3,4,5,6,7,8,9,10,11,12,16,17       1   \n",
       "1                                                NaN       1   \n",
       "2  1,3,4,6,7,8,10,11,12,13,14,15,16,17,18,19,20,2...       1   \n",
       "3                         1,2,3,4,5,6,7,8,9,10,11,12       1   \n",
       "4                                                NaN       1   \n",
       "\n",
       "   age_filter_start  age_filter_end  views_count  was_premium  is_premium  \\\n",
       "0                24              30           89          NaN         NaN   \n",
       "1                24              30            0          NaN         NaN   \n",
       "2                42              48           68          NaN         NaN   \n",
       "3                29              35            0          NaN         NaN   \n",
       "4                24              30            1          1.0         NaN   \n",
       "\n",
       "   total_revenue  \n",
       "0              0  \n",
       "1              0  \n",
       "2              0  \n",
       "3              0  \n",
       "4              0  "
      ]
     },
     "execution_count": 281,
     "metadata": {},
     "output_type": "execute_result"
    }
   ],
   "source": [
    "users_test.head()"
   ]
  },
  {
   "cell_type": "markdown",
   "metadata": {},
   "source": [
    "# _1. Анализ данных_"
   ]
  },
  {
   "cell_type": "markdown",
   "metadata": {},
   "source": [
    "## _1.1 Анализ данных таблиц users_"
   ]
  },
  {
   "cell_type": "code",
   "execution_count": 282,
   "metadata": {},
   "outputs": [
    {
     "data": {
      "text/html": [
       "<div>\n",
       "<style scoped>\n",
       "    .dataframe tbody tr th:only-of-type {\n",
       "        vertical-align: middle;\n",
       "    }\n",
       "\n",
       "    .dataframe tbody tr th {\n",
       "        vertical-align: top;\n",
       "    }\n",
       "\n",
       "    .dataframe thead th {\n",
       "        text-align: right;\n",
       "    }\n",
       "</style>\n",
       "<table border=\"1\" class=\"dataframe\">\n",
       "  <thead>\n",
       "    <tr style=\"text-align: right;\">\n",
       "      <th></th>\n",
       "      <th>test</th>\n",
       "      <th>control_1</th>\n",
       "      <th>control_2</th>\n",
       "    </tr>\n",
       "  </thead>\n",
       "  <tbody>\n",
       "    <tr>\n",
       "      <th>uid</th>\n",
       "      <td>0</td>\n",
       "      <td>0</td>\n",
       "      <td>0</td>\n",
       "    </tr>\n",
       "    <tr>\n",
       "      <th>age</th>\n",
       "      <td>0</td>\n",
       "      <td>0</td>\n",
       "      <td>0</td>\n",
       "    </tr>\n",
       "    <tr>\n",
       "      <th>attraction_coeff</th>\n",
       "      <td>0</td>\n",
       "      <td>0</td>\n",
       "      <td>0</td>\n",
       "    </tr>\n",
       "    <tr>\n",
       "      <th>coins</th>\n",
       "      <td>4259</td>\n",
       "      <td>4280</td>\n",
       "      <td>4203</td>\n",
       "    </tr>\n",
       "    <tr>\n",
       "      <th>country</th>\n",
       "      <td>0</td>\n",
       "      <td>0</td>\n",
       "      <td>0</td>\n",
       "    </tr>\n",
       "    <tr>\n",
       "      <th>visit_days</th>\n",
       "      <td>1330</td>\n",
       "      <td>1324</td>\n",
       "      <td>1364</td>\n",
       "    </tr>\n",
       "    <tr>\n",
       "      <th>gender</th>\n",
       "      <td>0</td>\n",
       "      <td>0</td>\n",
       "      <td>0</td>\n",
       "    </tr>\n",
       "    <tr>\n",
       "      <th>age_filter_start</th>\n",
       "      <td>0</td>\n",
       "      <td>0</td>\n",
       "      <td>0</td>\n",
       "    </tr>\n",
       "    <tr>\n",
       "      <th>age_filter_end</th>\n",
       "      <td>0</td>\n",
       "      <td>0</td>\n",
       "      <td>0</td>\n",
       "    </tr>\n",
       "    <tr>\n",
       "      <th>views_count</th>\n",
       "      <td>0</td>\n",
       "      <td>0</td>\n",
       "      <td>0</td>\n",
       "    </tr>\n",
       "    <tr>\n",
       "      <th>was_premium</th>\n",
       "      <td>3900</td>\n",
       "      <td>3904</td>\n",
       "      <td>3853</td>\n",
       "    </tr>\n",
       "    <tr>\n",
       "      <th>is_premium</th>\n",
       "      <td>4151</td>\n",
       "      <td>4148</td>\n",
       "      <td>4073</td>\n",
       "    </tr>\n",
       "    <tr>\n",
       "      <th>total_revenue</th>\n",
       "      <td>0</td>\n",
       "      <td>0</td>\n",
       "      <td>0</td>\n",
       "    </tr>\n",
       "  </tbody>\n",
       "</table>\n",
       "</div>"
      ],
      "text/plain": [
       "                  test  control_1  control_2\n",
       "uid                  0          0          0\n",
       "age                  0          0          0\n",
       "attraction_coeff     0          0          0\n",
       "coins             4259       4280       4203\n",
       "country              0          0          0\n",
       "visit_days        1330       1324       1364\n",
       "gender               0          0          0\n",
       "age_filter_start     0          0          0\n",
       "age_filter_end       0          0          0\n",
       "views_count          0          0          0\n",
       "was_premium       3900       3904       3853\n",
       "is_premium        4151       4148       4073\n",
       "total_revenue        0          0          0"
      ]
     },
     "execution_count": 282,
     "metadata": {},
     "output_type": "execute_result"
    }
   ],
   "source": [
    "# Проверяем на пропуски\n",
    "isna_test = users_test.isna().sum().to_frame().rename(columns={0: 'test'})\n",
    "isna_test['control_1'] = users_control_1.isna().sum()\n",
    "isna_test['control_2'] = users_control_2.isna().sum()\n",
    "isna_test"
   ]
  },
  {
   "cell_type": "code",
   "execution_count": 283,
   "metadata": {},
   "outputs": [],
   "source": [
    "# Критичных пропусков нет, можно заменить их на 0\n",
    "users_test = users_test.fillna(0)\n",
    "users_control_1 = users_control_1.fillna(0)\n",
    "users_control_2 = users_control_2.fillna(0)"
   ]
  },
  {
   "cell_type": "code",
   "execution_count": 284,
   "metadata": {},
   "outputs": [
    {
     "data": {
      "text/html": [
       "<div>\n",
       "<style scoped>\n",
       "    .dataframe tbody tr th:only-of-type {\n",
       "        vertical-align: middle;\n",
       "    }\n",
       "\n",
       "    .dataframe tbody tr th {\n",
       "        vertical-align: top;\n",
       "    }\n",
       "\n",
       "    .dataframe thead th {\n",
       "        text-align: right;\n",
       "    }\n",
       "</style>\n",
       "<table border=\"1\" class=\"dataframe\">\n",
       "  <thead>\n",
       "    <tr style=\"text-align: right;\">\n",
       "      <th></th>\n",
       "      <th>test</th>\n",
       "      <th>control_1</th>\n",
       "      <th>control_2</th>\n",
       "    </tr>\n",
       "  </thead>\n",
       "  <tbody>\n",
       "    <tr>\n",
       "      <th>uid</th>\n",
       "      <td>int64</td>\n",
       "      <td>int64</td>\n",
       "      <td>int64</td>\n",
       "    </tr>\n",
       "    <tr>\n",
       "      <th>age</th>\n",
       "      <td>int64</td>\n",
       "      <td>int64</td>\n",
       "      <td>int64</td>\n",
       "    </tr>\n",
       "    <tr>\n",
       "      <th>attraction_coeff</th>\n",
       "      <td>int64</td>\n",
       "      <td>int64</td>\n",
       "      <td>int64</td>\n",
       "    </tr>\n",
       "    <tr>\n",
       "      <th>coins</th>\n",
       "      <td>float64</td>\n",
       "      <td>float64</td>\n",
       "      <td>float64</td>\n",
       "    </tr>\n",
       "    <tr>\n",
       "      <th>country</th>\n",
       "      <td>object</td>\n",
       "      <td>object</td>\n",
       "      <td>object</td>\n",
       "    </tr>\n",
       "    <tr>\n",
       "      <th>visit_days</th>\n",
       "      <td>object</td>\n",
       "      <td>object</td>\n",
       "      <td>object</td>\n",
       "    </tr>\n",
       "    <tr>\n",
       "      <th>gender</th>\n",
       "      <td>int64</td>\n",
       "      <td>int64</td>\n",
       "      <td>int64</td>\n",
       "    </tr>\n",
       "    <tr>\n",
       "      <th>age_filter_start</th>\n",
       "      <td>int64</td>\n",
       "      <td>int64</td>\n",
       "      <td>int64</td>\n",
       "    </tr>\n",
       "    <tr>\n",
       "      <th>age_filter_end</th>\n",
       "      <td>int64</td>\n",
       "      <td>int64</td>\n",
       "      <td>int64</td>\n",
       "    </tr>\n",
       "    <tr>\n",
       "      <th>views_count</th>\n",
       "      <td>int64</td>\n",
       "      <td>int64</td>\n",
       "      <td>int64</td>\n",
       "    </tr>\n",
       "    <tr>\n",
       "      <th>was_premium</th>\n",
       "      <td>float64</td>\n",
       "      <td>float64</td>\n",
       "      <td>float64</td>\n",
       "    </tr>\n",
       "    <tr>\n",
       "      <th>is_premium</th>\n",
       "      <td>float64</td>\n",
       "      <td>float64</td>\n",
       "      <td>float64</td>\n",
       "    </tr>\n",
       "    <tr>\n",
       "      <th>total_revenue</th>\n",
       "      <td>int64</td>\n",
       "      <td>int64</td>\n",
       "      <td>int64</td>\n",
       "    </tr>\n",
       "  </tbody>\n",
       "</table>\n",
       "</div>"
      ],
      "text/plain": [
       "                     test control_1 control_2\n",
       "uid                 int64     int64     int64\n",
       "age                 int64     int64     int64\n",
       "attraction_coeff    int64     int64     int64\n",
       "coins             float64   float64   float64\n",
       "country            object    object    object\n",
       "visit_days         object    object    object\n",
       "gender              int64     int64     int64\n",
       "age_filter_start    int64     int64     int64\n",
       "age_filter_end      int64     int64     int64\n",
       "views_count         int64     int64     int64\n",
       "was_premium       float64   float64   float64\n",
       "is_premium        float64   float64   float64\n",
       "total_revenue       int64     int64     int64"
      ]
     },
     "execution_count": 284,
     "metadata": {},
     "output_type": "execute_result"
    }
   ],
   "source": [
    "# Смотрим на тип данных, они соответствуют самим данным. \n",
    "dtypes_test = users_test.dtypes.to_frame().rename(columns={0: 'test'})\n",
    "dtypes_test['control_1'] = users_control_1.dtypes\n",
    "dtypes_test['control_2'] = users_control_2.dtypes\n",
    "dtypes_test"
   ]
  },
  {
   "cell_type": "code",
   "execution_count": 285,
   "metadata": {},
   "outputs": [
    {
     "data": {
      "text/plain": [
       "0"
      ]
     },
     "execution_count": 285,
     "metadata": {},
     "output_type": "execute_result"
    }
   ],
   "source": [
    "# Проверим id пользователей на уникальность. Значения уникальны.\n",
    "users_test.shape[0] - users_test.uid.nunique()"
   ]
  },
  {
   "cell_type": "code",
   "execution_count": 286,
   "metadata": {},
   "outputs": [
    {
     "data": {
      "text/plain": [
       "0"
      ]
     },
     "execution_count": 286,
     "metadata": {},
     "output_type": "execute_result"
    }
   ],
   "source": [
    "users_control_1.shape[0] - users_control_1.uid.nunique()"
   ]
  },
  {
   "cell_type": "code",
   "execution_count": 287,
   "metadata": {},
   "outputs": [
    {
     "data": {
      "text/plain": [
       "0"
      ]
     },
     "execution_count": 287,
     "metadata": {},
     "output_type": "execute_result"
    }
   ],
   "source": [
    "users_control_2.shape[0] - users_control_2.uid.nunique()"
   ]
  },
  {
   "cell_type": "code",
   "execution_count": 288,
   "metadata": {},
   "outputs": [
    {
     "data": {
      "text/html": [
       "<div>\n",
       "<style scoped>\n",
       "    .dataframe tbody tr th:only-of-type {\n",
       "        vertical-align: middle;\n",
       "    }\n",
       "\n",
       "    .dataframe tbody tr th {\n",
       "        vertical-align: top;\n",
       "    }\n",
       "\n",
       "    .dataframe thead th {\n",
       "        text-align: right;\n",
       "    }\n",
       "</style>\n",
       "<table border=\"1\" class=\"dataframe\">\n",
       "  <thead>\n",
       "    <tr style=\"text-align: right;\">\n",
       "      <th></th>\n",
       "      <th>age</th>\n",
       "      <th>attraction_coeff</th>\n",
       "      <th>coins</th>\n",
       "      <th>views_count</th>\n",
       "      <th>total_revenue</th>\n",
       "    </tr>\n",
       "  </thead>\n",
       "  <tbody>\n",
       "    <tr>\n",
       "      <th>count</th>\n",
       "      <td>4308.000000</td>\n",
       "      <td>4308.000000</td>\n",
       "      <td>4308.000000</td>\n",
       "      <td>4308.000000</td>\n",
       "      <td>4308.000000</td>\n",
       "    </tr>\n",
       "    <tr>\n",
       "      <th>mean</th>\n",
       "      <td>31.889276</td>\n",
       "      <td>316.411328</td>\n",
       "      <td>2.614206</td>\n",
       "      <td>50.391133</td>\n",
       "      <td>534.080316</td>\n",
       "    </tr>\n",
       "    <tr>\n",
       "      <th>std</th>\n",
       "      <td>10.245287</td>\n",
       "      <td>323.373725</td>\n",
       "      <td>129.608910</td>\n",
       "      <td>318.676437</td>\n",
       "      <td>4371.682632</td>\n",
       "    </tr>\n",
       "    <tr>\n",
       "      <th>min</th>\n",
       "      <td>16.000000</td>\n",
       "      <td>0.000000</td>\n",
       "      <td>0.000000</td>\n",
       "      <td>0.000000</td>\n",
       "      <td>0.000000</td>\n",
       "    </tr>\n",
       "    <tr>\n",
       "      <th>25%</th>\n",
       "      <td>25.000000</td>\n",
       "      <td>0.000000</td>\n",
       "      <td>0.000000</td>\n",
       "      <td>1.000000</td>\n",
       "      <td>0.000000</td>\n",
       "    </tr>\n",
       "    <tr>\n",
       "      <th>50%</th>\n",
       "      <td>30.000000</td>\n",
       "      <td>250.000000</td>\n",
       "      <td>0.000000</td>\n",
       "      <td>6.000000</td>\n",
       "      <td>0.000000</td>\n",
       "    </tr>\n",
       "    <tr>\n",
       "      <th>75%</th>\n",
       "      <td>38.000000</td>\n",
       "      <td>520.250000</td>\n",
       "      <td>0.000000</td>\n",
       "      <td>22.000000</td>\n",
       "      <td>0.000000</td>\n",
       "    </tr>\n",
       "    <tr>\n",
       "      <th>max</th>\n",
       "      <td>99.000000</td>\n",
       "      <td>1000.000000</td>\n",
       "      <td>8466.000000</td>\n",
       "      <td>12831.000000</td>\n",
       "      <td>129870.000000</td>\n",
       "    </tr>\n",
       "  </tbody>\n",
       "</table>\n",
       "</div>"
      ],
      "text/plain": [
       "               age  attraction_coeff        coins   views_count  total_revenue\n",
       "count  4308.000000       4308.000000  4308.000000   4308.000000    4308.000000\n",
       "mean     31.889276        316.411328     2.614206     50.391133     534.080316\n",
       "std      10.245287        323.373725   129.608910    318.676437    4371.682632\n",
       "min      16.000000          0.000000     0.000000      0.000000       0.000000\n",
       "25%      25.000000          0.000000     0.000000      1.000000       0.000000\n",
       "50%      30.000000        250.000000     0.000000      6.000000       0.000000\n",
       "75%      38.000000        520.250000     0.000000     22.000000       0.000000\n",
       "max      99.000000       1000.000000  8466.000000  12831.000000  129870.000000"
      ]
     },
     "execution_count": 288,
     "metadata": {},
     "output_type": "execute_result"
    }
   ],
   "source": [
    "# Посмотрим какие данные есть в числовых колонках\n",
    "users_test[['age', 'attraction_coeff', 'coins', 'views_count', 'total_revenue']].describe()"
   ]
  },
  {
   "cell_type": "code",
   "execution_count": 289,
   "metadata": {},
   "outputs": [
    {
     "data": {
      "text/html": [
       "<div>\n",
       "<style scoped>\n",
       "    .dataframe tbody tr th:only-of-type {\n",
       "        vertical-align: middle;\n",
       "    }\n",
       "\n",
       "    .dataframe tbody tr th {\n",
       "        vertical-align: top;\n",
       "    }\n",
       "\n",
       "    .dataframe thead th {\n",
       "        text-align: right;\n",
       "    }\n",
       "</style>\n",
       "<table border=\"1\" class=\"dataframe\">\n",
       "  <thead>\n",
       "    <tr style=\"text-align: right;\">\n",
       "      <th></th>\n",
       "      <th>age</th>\n",
       "      <th>attraction_coeff</th>\n",
       "      <th>coins</th>\n",
       "      <th>views_count</th>\n",
       "      <th>total_revenue</th>\n",
       "    </tr>\n",
       "  </thead>\n",
       "  <tbody>\n",
       "    <tr>\n",
       "      <th>count</th>\n",
       "      <td>4340.000000</td>\n",
       "      <td>4340.000000</td>\n",
       "      <td>4340.000000</td>\n",
       "      <td>4340.000000</td>\n",
       "      <td>4340.000000</td>\n",
       "    </tr>\n",
       "    <tr>\n",
       "      <th>mean</th>\n",
       "      <td>32.095392</td>\n",
       "      <td>312.048848</td>\n",
       "      <td>24.136866</td>\n",
       "      <td>44.467512</td>\n",
       "      <td>594.761982</td>\n",
       "    </tr>\n",
       "    <tr>\n",
       "      <th>std</th>\n",
       "      <td>10.257466</td>\n",
       "      <td>320.972130</td>\n",
       "      <td>1518.279250</td>\n",
       "      <td>204.800272</td>\n",
       "      <td>7987.922925</td>\n",
       "    </tr>\n",
       "    <tr>\n",
       "      <th>min</th>\n",
       "      <td>16.000000</td>\n",
       "      <td>0.000000</td>\n",
       "      <td>0.000000</td>\n",
       "      <td>0.000000</td>\n",
       "      <td>0.000000</td>\n",
       "    </tr>\n",
       "    <tr>\n",
       "      <th>25%</th>\n",
       "      <td>24.000000</td>\n",
       "      <td>0.000000</td>\n",
       "      <td>0.000000</td>\n",
       "      <td>1.000000</td>\n",
       "      <td>0.000000</td>\n",
       "    </tr>\n",
       "    <tr>\n",
       "      <th>50%</th>\n",
       "      <td>30.000000</td>\n",
       "      <td>238.500000</td>\n",
       "      <td>0.000000</td>\n",
       "      <td>6.000000</td>\n",
       "      <td>0.000000</td>\n",
       "    </tr>\n",
       "    <tr>\n",
       "      <th>75%</th>\n",
       "      <td>38.000000</td>\n",
       "      <td>518.000000</td>\n",
       "      <td>0.000000</td>\n",
       "      <td>21.000000</td>\n",
       "      <td>0.000000</td>\n",
       "    </tr>\n",
       "    <tr>\n",
       "      <th>max</th>\n",
       "      <td>99.000000</td>\n",
       "      <td>1000.000000</td>\n",
       "      <td>99958.000000</td>\n",
       "      <td>4953.000000</td>\n",
       "      <td>486330.000000</td>\n",
       "    </tr>\n",
       "  </tbody>\n",
       "</table>\n",
       "</div>"
      ],
      "text/plain": [
       "               age  attraction_coeff         coins  views_count  total_revenue\n",
       "count  4340.000000       4340.000000   4340.000000  4340.000000    4340.000000\n",
       "mean     32.095392        312.048848     24.136866    44.467512     594.761982\n",
       "std      10.257466        320.972130   1518.279250   204.800272    7987.922925\n",
       "min      16.000000          0.000000      0.000000     0.000000       0.000000\n",
       "25%      24.000000          0.000000      0.000000     1.000000       0.000000\n",
       "50%      30.000000        238.500000      0.000000     6.000000       0.000000\n",
       "75%      38.000000        518.000000      0.000000    21.000000       0.000000\n",
       "max      99.000000       1000.000000  99958.000000  4953.000000  486330.000000"
      ]
     },
     "execution_count": 289,
     "metadata": {},
     "output_type": "execute_result"
    }
   ],
   "source": [
    "users_control_1[['age', 'attraction_coeff', 'coins', 'views_count', 'total_revenue']].describe()"
   ]
  },
  {
   "cell_type": "code",
   "execution_count": 290,
   "metadata": {},
   "outputs": [
    {
     "data": {
      "text/html": [
       "<div>\n",
       "<style scoped>\n",
       "    .dataframe tbody tr th:only-of-type {\n",
       "        vertical-align: middle;\n",
       "    }\n",
       "\n",
       "    .dataframe tbody tr th {\n",
       "        vertical-align: top;\n",
       "    }\n",
       "\n",
       "    .dataframe thead th {\n",
       "        text-align: right;\n",
       "    }\n",
       "</style>\n",
       "<table border=\"1\" class=\"dataframe\">\n",
       "  <thead>\n",
       "    <tr style=\"text-align: right;\">\n",
       "      <th></th>\n",
       "      <th>age</th>\n",
       "      <th>attraction_coeff</th>\n",
       "      <th>coins</th>\n",
       "      <th>views_count</th>\n",
       "      <th>total_revenue</th>\n",
       "    </tr>\n",
       "  </thead>\n",
       "  <tbody>\n",
       "    <tr>\n",
       "      <th>count</th>\n",
       "      <td>4264.000000</td>\n",
       "      <td>4264.000000</td>\n",
       "      <td>4264.000000</td>\n",
       "      <td>4264.000000</td>\n",
       "      <td>4264.000000</td>\n",
       "    </tr>\n",
       "    <tr>\n",
       "      <th>mean</th>\n",
       "      <td>32.046201</td>\n",
       "      <td>317.957317</td>\n",
       "      <td>0.259615</td>\n",
       "      <td>45.064493</td>\n",
       "      <td>450.384146</td>\n",
       "    </tr>\n",
       "    <tr>\n",
       "      <th>std</th>\n",
       "      <td>10.170721</td>\n",
       "      <td>326.191737</td>\n",
       "      <td>4.724639</td>\n",
       "      <td>318.188992</td>\n",
       "      <td>2859.242228</td>\n",
       "    </tr>\n",
       "    <tr>\n",
       "      <th>min</th>\n",
       "      <td>16.000000</td>\n",
       "      <td>0.000000</td>\n",
       "      <td>0.000000</td>\n",
       "      <td>0.000000</td>\n",
       "      <td>0.000000</td>\n",
       "    </tr>\n",
       "    <tr>\n",
       "      <th>25%</th>\n",
       "      <td>25.000000</td>\n",
       "      <td>0.000000</td>\n",
       "      <td>0.000000</td>\n",
       "      <td>1.000000</td>\n",
       "      <td>0.000000</td>\n",
       "    </tr>\n",
       "    <tr>\n",
       "      <th>50%</th>\n",
       "      <td>30.000000</td>\n",
       "      <td>250.000000</td>\n",
       "      <td>0.000000</td>\n",
       "      <td>6.000000</td>\n",
       "      <td>0.000000</td>\n",
       "    </tr>\n",
       "    <tr>\n",
       "      <th>75%</th>\n",
       "      <td>38.000000</td>\n",
       "      <td>548.500000</td>\n",
       "      <td>0.000000</td>\n",
       "      <td>20.000000</td>\n",
       "      <td>0.000000</td>\n",
       "    </tr>\n",
       "    <tr>\n",
       "      <th>max</th>\n",
       "      <td>99.000000</td>\n",
       "      <td>1000.000000</td>\n",
       "      <td>271.000000</td>\n",
       "      <td>16157.000000</td>\n",
       "      <td>81796.000000</td>\n",
       "    </tr>\n",
       "  </tbody>\n",
       "</table>\n",
       "</div>"
      ],
      "text/plain": [
       "               age  attraction_coeff        coins   views_count  total_revenue\n",
       "count  4264.000000       4264.000000  4264.000000   4264.000000    4264.000000\n",
       "mean     32.046201        317.957317     0.259615     45.064493     450.384146\n",
       "std      10.170721        326.191737     4.724639    318.188992    2859.242228\n",
       "min      16.000000          0.000000     0.000000      0.000000       0.000000\n",
       "25%      25.000000          0.000000     0.000000      1.000000       0.000000\n",
       "50%      30.000000        250.000000     0.000000      6.000000       0.000000\n",
       "75%      38.000000        548.500000     0.000000     20.000000       0.000000\n",
       "max      99.000000       1000.000000   271.000000  16157.000000   81796.000000"
      ]
     },
     "execution_count": 290,
     "metadata": {},
     "output_type": "execute_result"
    }
   ],
   "source": [
    "users_control_2[['age', 'attraction_coeff', 'coins', 'views_count', 'total_revenue']].describe()"
   ]
  },
  {
   "cell_type": "code",
   "execution_count": 291,
   "metadata": {},
   "outputs": [
    {
     "data": {
      "text/plain": [
       "8"
      ]
     },
     "execution_count": 291,
     "metadata": {},
     "output_type": "execute_result"
    }
   ],
   "source": [
    "# Можно заметить, что определенная часть пользователей не указывает свой настоящий возраст,мне представляется\n",
    "# сомнительным, когда указывают возраст старше 90 лет, это стоит учесть при сравнении возрастов в группах.\n",
    "users_test.query('age > 90').shape[0]"
   ]
  },
  {
   "cell_type": "code",
   "execution_count": 292,
   "metadata": {},
   "outputs": [
    {
     "data": {
      "text/plain": [
       "9"
      ]
     },
     "execution_count": 292,
     "metadata": {},
     "output_type": "execute_result"
    }
   ],
   "source": [
    "users_control_1.query('age > 90').shape[0]"
   ]
  },
  {
   "cell_type": "code",
   "execution_count": 293,
   "metadata": {},
   "outputs": [
    {
     "data": {
      "text/plain": [
       "3"
      ]
     },
     "execution_count": 293,
     "metadata": {},
     "output_type": "execute_result"
    }
   ],
   "source": [
    "users_control_2.query('age > 90').shape[0]"
   ]
  },
  {
   "cell_type": "code",
   "execution_count": 294,
   "metadata": {},
   "outputs": [
    {
     "data": {
      "text/html": [
       "<div>\n",
       "<style scoped>\n",
       "    .dataframe tbody tr th:only-of-type {\n",
       "        vertical-align: middle;\n",
       "    }\n",
       "\n",
       "    .dataframe tbody tr th {\n",
       "        vertical-align: top;\n",
       "    }\n",
       "\n",
       "    .dataframe thead th {\n",
       "        text-align: right;\n",
       "    }\n",
       "</style>\n",
       "<table border=\"1\" class=\"dataframe\">\n",
       "  <thead>\n",
       "    <tr style=\"text-align: right;\">\n",
       "      <th></th>\n",
       "      <th>test</th>\n",
       "      <th>control_1</th>\n",
       "      <th>control_2</th>\n",
       "    </tr>\n",
       "  </thead>\n",
       "  <tbody>\n",
       "    <tr>\n",
       "      <th>count</th>\n",
       "      <td>49.000000</td>\n",
       "      <td>60.0000</td>\n",
       "      <td>61.000000</td>\n",
       "    </tr>\n",
       "    <tr>\n",
       "      <th>mean</th>\n",
       "      <td>229.836735</td>\n",
       "      <td>1745.9000</td>\n",
       "      <td>18.147541</td>\n",
       "    </tr>\n",
       "    <tr>\n",
       "      <th>std</th>\n",
       "      <td>1205.819471</td>\n",
       "      <td>12902.3577</td>\n",
       "      <td>35.439543</td>\n",
       "    </tr>\n",
       "    <tr>\n",
       "      <th>min</th>\n",
       "      <td>1.000000</td>\n",
       "      <td>1.0000</td>\n",
       "      <td>1.000000</td>\n",
       "    </tr>\n",
       "    <tr>\n",
       "      <th>25%</th>\n",
       "      <td>4.000000</td>\n",
       "      <td>8.0000</td>\n",
       "      <td>4.000000</td>\n",
       "    </tr>\n",
       "    <tr>\n",
       "      <th>50%</th>\n",
       "      <td>9.000000</td>\n",
       "      <td>11.5000</td>\n",
       "      <td>10.000000</td>\n",
       "    </tr>\n",
       "    <tr>\n",
       "      <th>75%</th>\n",
       "      <td>72.000000</td>\n",
       "      <td>28.0000</td>\n",
       "      <td>20.000000</td>\n",
       "    </tr>\n",
       "    <tr>\n",
       "      <th>max</th>\n",
       "      <td>8466.000000</td>\n",
       "      <td>99958.0000</td>\n",
       "      <td>271.000000</td>\n",
       "    </tr>\n",
       "  </tbody>\n",
       "</table>\n",
       "</div>"
      ],
      "text/plain": [
       "              test   control_1   control_2\n",
       "count    49.000000     60.0000   61.000000\n",
       "mean    229.836735   1745.9000   18.147541\n",
       "std    1205.819471  12902.3577   35.439543\n",
       "min       1.000000      1.0000    1.000000\n",
       "25%       4.000000      8.0000    4.000000\n",
       "50%       9.000000     11.5000   10.000000\n",
       "75%      72.000000     28.0000   20.000000\n",
       "max    8466.000000  99958.0000  271.000000"
      ]
     },
     "execution_count": 294,
     "metadata": {},
     "output_type": "execute_result"
    }
   ],
   "source": [
    "# Рассмотрим колонку coins в которых есть значения отличные от 0. Количество пользователей невелико чуть больше 1%.\n",
    "# Есть различия в средних, но, предположу, это из-за того, что отдельные пользователи специально покупают \n",
    "# монетки за реальные деньги, отсюда анамольно большое количество монет. \n",
    "coins_test = users_test.query('coins != 0')['coins'].describe().to_frame().rename(columns={'coins': 'test'})\n",
    "coins_test['control_1'] = users_control_1.query('coins != 0')['coins'].describe()\n",
    "coins_test['control_2'] = users_control_2.query('coins != 0')['coins'].describe()\n",
    "coins_test"
   ]
  },
  {
   "cell_type": "code",
   "execution_count": 295,
   "metadata": {},
   "outputs": [
    {
     "data": {
      "text/html": [
       "<div>\n",
       "<style scoped>\n",
       "    .dataframe tbody tr th:only-of-type {\n",
       "        vertical-align: middle;\n",
       "    }\n",
       "\n",
       "    .dataframe tbody tr th {\n",
       "        vertical-align: top;\n",
       "    }\n",
       "\n",
       "    .dataframe thead th {\n",
       "        text-align: right;\n",
       "    }\n",
       "</style>\n",
       "<table border=\"1\" class=\"dataframe\">\n",
       "  <thead>\n",
       "    <tr style=\"text-align: right;\">\n",
       "      <th></th>\n",
       "      <th>country</th>\n",
       "      <th>test</th>\n",
       "      <th>control_1</th>\n",
       "      <th>control_2</th>\n",
       "    </tr>\n",
       "  </thead>\n",
       "  <tbody>\n",
       "    <tr>\n",
       "      <th>0</th>\n",
       "      <td>United States of America</td>\n",
       "      <td>1450.0</td>\n",
       "      <td>1471.0</td>\n",
       "      <td>1486.0</td>\n",
       "    </tr>\n",
       "    <tr>\n",
       "      <th>1</th>\n",
       "      <td>Argentina</td>\n",
       "      <td>396.0</td>\n",
       "      <td>389.0</td>\n",
       "      <td>397.0</td>\n",
       "    </tr>\n",
       "    <tr>\n",
       "      <th>2</th>\n",
       "      <td>France</td>\n",
       "      <td>359.0</td>\n",
       "      <td>370.0</td>\n",
       "      <td>376.0</td>\n",
       "    </tr>\n",
       "    <tr>\n",
       "      <th>3</th>\n",
       "      <td>Italy</td>\n",
       "      <td>323.0</td>\n",
       "      <td>338.0</td>\n",
       "      <td>293.0</td>\n",
       "    </tr>\n",
       "    <tr>\n",
       "      <th>4</th>\n",
       "      <td>Spain</td>\n",
       "      <td>301.0</td>\n",
       "      <td>342.0</td>\n",
       "      <td>310.0</td>\n",
       "    </tr>\n",
       "  </tbody>\n",
       "</table>\n",
       "</div>"
      ],
      "text/plain": [
       "                    country    test  control_1  control_2\n",
       "0  United States of America  1450.0     1471.0     1486.0\n",
       "1                 Argentina   396.0      389.0      397.0\n",
       "2                    France   359.0      370.0      376.0\n",
       "3                     Italy   323.0      338.0      293.0\n",
       "4                     Spain   301.0      342.0      310.0"
      ]
     },
     "execution_count": 295,
     "metadata": {},
     "output_type": "execute_result"
    }
   ],
   "source": [
    "# Посмотрим из каких стран пользователи в данных группах \n",
    "country_test = users_test.groupby(['country'])\\\n",
    "    .agg({'uid': 'count'})\\\n",
    "    .sort_values('uid', ascending=False)\\\n",
    "    .rename(columns={'uid': 'test'})\\\n",
    "    .reset_index()\n",
    "country_control_1 = users_control_1.groupby(['country'])\\\n",
    "    .agg({'uid': 'count'})\\\n",
    "    .sort_values('uid', ascending=False)\\\n",
    "    .rename(columns={'uid': 'control_1'})\\\n",
    "    .reset_index()\n",
    "country_control_2 = users_control_2.groupby(['country'])\\\n",
    "    .agg({'uid': 'count'})\\\n",
    "    .sort_values('uid', ascending=False)\\\n",
    "    .rename(columns={'uid': 'control_2'})\\\n",
    "    .reset_index()\n",
    "country_test_control = country_test.merge(country_control_1, how='outer', on='country')\n",
    "country_all = country_test_control.merge(country_control_2, how='outer', on='country')\n",
    "country_all.head()"
   ]
  },
  {
   "cell_type": "code",
   "execution_count": 296,
   "metadata": {},
   "outputs": [],
   "source": [
    "# Посчитаем количество дней, которые проводили пользователи.\n",
    "users_test['count_days'] = users_test.visit_days.str.split(',').str.len().fillna(0)\n",
    "users_control_1['count_days'] = users_control_1.visit_days.str.split(',').str.len().fillna(0)\n",
    "users_control_2['count_days'] = users_control_2.visit_days.str.split(',').str.len().fillna(0)"
   ]
  },
  {
   "cell_type": "code",
   "execution_count": 297,
   "metadata": {},
   "outputs": [
    {
     "data": {
      "text/html": [
       "<div>\n",
       "<style scoped>\n",
       "    .dataframe tbody tr th:only-of-type {\n",
       "        vertical-align: middle;\n",
       "    }\n",
       "\n",
       "    .dataframe tbody tr th {\n",
       "        vertical-align: top;\n",
       "    }\n",
       "\n",
       "    .dataframe thead th {\n",
       "        text-align: right;\n",
       "    }\n",
       "</style>\n",
       "<table border=\"1\" class=\"dataframe\">\n",
       "  <thead>\n",
       "    <tr style=\"text-align: right;\">\n",
       "      <th></th>\n",
       "      <th>test</th>\n",
       "      <th>control_1</th>\n",
       "      <th>control_2</th>\n",
       "    </tr>\n",
       "  </thead>\n",
       "  <tbody>\n",
       "    <tr>\n",
       "      <th>count</th>\n",
       "      <td>4308.000000</td>\n",
       "      <td>4340.000000</td>\n",
       "      <td>4264.00000</td>\n",
       "    </tr>\n",
       "    <tr>\n",
       "      <th>mean</th>\n",
       "      <td>4.585422</td>\n",
       "      <td>4.642396</td>\n",
       "      <td>4.44606</td>\n",
       "    </tr>\n",
       "    <tr>\n",
       "      <th>std</th>\n",
       "      <td>6.185875</td>\n",
       "      <td>6.313304</td>\n",
       "      <td>6.17376</td>\n",
       "    </tr>\n",
       "    <tr>\n",
       "      <th>min</th>\n",
       "      <td>0.000000</td>\n",
       "      <td>0.000000</td>\n",
       "      <td>0.00000</td>\n",
       "    </tr>\n",
       "    <tr>\n",
       "      <th>25%</th>\n",
       "      <td>0.000000</td>\n",
       "      <td>0.000000</td>\n",
       "      <td>0.00000</td>\n",
       "    </tr>\n",
       "    <tr>\n",
       "      <th>50%</th>\n",
       "      <td>2.000000</td>\n",
       "      <td>2.000000</td>\n",
       "      <td>2.00000</td>\n",
       "    </tr>\n",
       "    <tr>\n",
       "      <th>75%</th>\n",
       "      <td>7.000000</td>\n",
       "      <td>7.000000</td>\n",
       "      <td>6.00000</td>\n",
       "    </tr>\n",
       "    <tr>\n",
       "      <th>max</th>\n",
       "      <td>31.000000</td>\n",
       "      <td>31.000000</td>\n",
       "      <td>31.00000</td>\n",
       "    </tr>\n",
       "  </tbody>\n",
       "</table>\n",
       "</div>"
      ],
      "text/plain": [
       "              test    control_1   control_2\n",
       "count  4308.000000  4340.000000  4264.00000\n",
       "mean      4.585422     4.642396     4.44606\n",
       "std       6.185875     6.313304     6.17376\n",
       "min       0.000000     0.000000     0.00000\n",
       "25%       0.000000     0.000000     0.00000\n",
       "50%       2.000000     2.000000     2.00000\n",
       "75%       7.000000     7.000000     6.00000\n",
       "max      31.000000    31.000000    31.00000"
      ]
     },
     "execution_count": 297,
     "metadata": {},
     "output_type": "execute_result"
    }
   ],
   "source": [
    "# Сравним количество дней посещения по всем группам. Аномалии и расхождения не обнаружены. \n",
    "days_test = users_test.count_days.describe().to_frame().rename(columns={'count_days': 'test'})\n",
    "days_test['control_1'] = users_control_1.count_days.describe()\n",
    "days_test['control_2'] = users_control_2.count_days.describe()\n",
    "days_test"
   ]
  },
  {
   "cell_type": "code",
   "execution_count": 298,
   "metadata": {},
   "outputs": [
    {
     "data": {
      "text/html": [
       "<div>\n",
       "<style scoped>\n",
       "    .dataframe tbody tr th:only-of-type {\n",
       "        vertical-align: middle;\n",
       "    }\n",
       "\n",
       "    .dataframe tbody tr th {\n",
       "        vertical-align: top;\n",
       "    }\n",
       "\n",
       "    .dataframe thead th {\n",
       "        text-align: right;\n",
       "    }\n",
       "</style>\n",
       "<table border=\"1\" class=\"dataframe\">\n",
       "  <thead>\n",
       "    <tr style=\"text-align: right;\">\n",
       "      <th></th>\n",
       "      <th>sex</th>\n",
       "      <th>test</th>\n",
       "      <th>control_1</th>\n",
       "      <th>control_2</th>\n",
       "    </tr>\n",
       "  </thead>\n",
       "  <tbody>\n",
       "    <tr>\n",
       "      <th>0</th>\n",
       "      <td>1</td>\n",
       "      <td>0.95</td>\n",
       "      <td>0.96</td>\n",
       "      <td>0.95</td>\n",
       "    </tr>\n",
       "    <tr>\n",
       "      <th>1</th>\n",
       "      <td>0</td>\n",
       "      <td>0.05</td>\n",
       "      <td>0.04</td>\n",
       "      <td>0.05</td>\n",
       "    </tr>\n",
       "  </tbody>\n",
       "</table>\n",
       "</div>"
      ],
      "text/plain": [
       "   sex  test  control_1  control_2\n",
       "0    1  0.95       0.96       0.95\n",
       "1    0  0.05       0.04       0.05"
      ]
     },
     "execution_count": 298,
     "metadata": {},
     "output_type": "execute_result"
    }
   ],
   "source": [
    "# Посмотрим на гендерные различия. Во всех группах преобладают мужчины, женщин менее 5%\n",
    "sex_test = users_test['gender']\\\n",
    "    .value_counts(normalize=True)\\\n",
    "    .reset_index().round(2)\\\n",
    "    .rename(columns={'index': 'sex', 'gender': 'test'})\n",
    "sex_control_1 = users_control_1['gender']\\\n",
    "    .value_counts(normalize=True)\\\n",
    "    .reset_index().round(2)\\\n",
    "    .rename(columns={'index': 'sex', 'gender': 'control_1'})\n",
    "sex_control_2 = users_control_2['gender']\\\n",
    "    .value_counts(normalize=True)\\\n",
    "    .reset_index().round(2)\\\n",
    "    .rename(columns={'index': 'sex', 'gender': 'control_2'})\n",
    "sex_test_control = sex_test.merge(sex_control_1, how='inner', on='sex')\n",
    "sex_all = sex_test_control.merge(sex_control_2, how='inner', on='sex')\n",
    "sex_all"
   ]
  },
  {
   "cell_type": "code",
   "execution_count": 299,
   "metadata": {},
   "outputs": [
    {
     "data": {
      "text/html": [
       "<div>\n",
       "<style scoped>\n",
       "    .dataframe tbody tr th:only-of-type {\n",
       "        vertical-align: middle;\n",
       "    }\n",
       "\n",
       "    .dataframe tbody tr th {\n",
       "        vertical-align: top;\n",
       "    }\n",
       "\n",
       "    .dataframe thead th {\n",
       "        text-align: right;\n",
       "    }\n",
       "</style>\n",
       "<table border=\"1\" class=\"dataframe\">\n",
       "  <thead>\n",
       "    <tr style=\"text-align: right;\">\n",
       "      <th></th>\n",
       "      <th>was_premium</th>\n",
       "      <th>test</th>\n",
       "      <th>control_1</th>\n",
       "      <th>control_2</th>\n",
       "    </tr>\n",
       "  </thead>\n",
       "  <tbody>\n",
       "    <tr>\n",
       "      <th>0</th>\n",
       "      <td>0.0</td>\n",
       "      <td>0.91</td>\n",
       "      <td>0.9</td>\n",
       "      <td>0.9</td>\n",
       "    </tr>\n",
       "    <tr>\n",
       "      <th>1</th>\n",
       "      <td>1.0</td>\n",
       "      <td>0.09</td>\n",
       "      <td>0.1</td>\n",
       "      <td>0.1</td>\n",
       "    </tr>\n",
       "  </tbody>\n",
       "</table>\n",
       "</div>"
      ],
      "text/plain": [
       "   was_premium  test  control_1  control_2\n",
       "0          0.0  0.91        0.9        0.9\n",
       "1          1.0  0.09        0.1        0.1"
      ]
     },
     "execution_count": 299,
     "metadata": {},
     "output_type": "execute_result"
    }
   ],
   "source": [
    "# По количеству пользователей, кто был когда-либо с подпиской премиум, распределение одинаковое.\n",
    "was_premium_test = users_test.was_premium.value_counts(normalize=True)\\\n",
    "    .round(2).reset_index()\\\n",
    "    .rename(columns={'index': 'was_premium', 'was_premium': 'test'})\n",
    "was_premium_control_1 = users_control_1.was_premium.value_counts(normalize=True)\\\n",
    "    .round(2).reset_index()\\\n",
    "    .rename(columns={'index': 'was_premium', 'was_premium': 'control_1'})\n",
    "was_premium_control_2 = users_control_2.was_premium.value_counts(normalize=True)\\\n",
    "    .round(2).reset_index()\\\n",
    "    .rename(columns={'index': 'was_premium', 'was_premium': 'control_2'})\n",
    "was_premium_test_control = was_premium_test.merge(was_premium_control_1, how='inner', on='was_premium')\n",
    "was_premium_all = was_premium_test_control.merge(was_premium_control_2, how='inner', on='was_premium')\n",
    "was_premium_all"
   ]
  },
  {
   "cell_type": "code",
   "execution_count": 300,
   "metadata": {},
   "outputs": [
    {
     "data": {
      "text/html": [
       "<div>\n",
       "<style scoped>\n",
       "    .dataframe tbody tr th:only-of-type {\n",
       "        vertical-align: middle;\n",
       "    }\n",
       "\n",
       "    .dataframe tbody tr th {\n",
       "        vertical-align: top;\n",
       "    }\n",
       "\n",
       "    .dataframe thead th {\n",
       "        text-align: right;\n",
       "    }\n",
       "</style>\n",
       "<table border=\"1\" class=\"dataframe\">\n",
       "  <thead>\n",
       "    <tr style=\"text-align: right;\">\n",
       "      <th></th>\n",
       "      <th>is_premium</th>\n",
       "      <th>test</th>\n",
       "      <th>control_1</th>\n",
       "      <th>control_2</th>\n",
       "    </tr>\n",
       "  </thead>\n",
       "  <tbody>\n",
       "    <tr>\n",
       "      <th>0</th>\n",
       "      <td>0.0</td>\n",
       "      <td>0.96</td>\n",
       "      <td>0.96</td>\n",
       "      <td>0.96</td>\n",
       "    </tr>\n",
       "    <tr>\n",
       "      <th>1</th>\n",
       "      <td>1.0</td>\n",
       "      <td>0.04</td>\n",
       "      <td>0.04</td>\n",
       "      <td>0.04</td>\n",
       "    </tr>\n",
       "  </tbody>\n",
       "</table>\n",
       "</div>"
      ],
      "text/plain": [
       "   is_premium  test  control_1  control_2\n",
       "0         0.0  0.96       0.96       0.96\n",
       "1         1.0  0.04       0.04       0.04"
      ]
     },
     "execution_count": 300,
     "metadata": {},
     "output_type": "execute_result"
    }
   ],
   "source": [
    "# Количество текущих премиум подписок одинаково во всех группах. \n",
    "is_premium_test = users_test.is_premium.value_counts(normalize=True)\\\n",
    "    .round(2).reset_index()\\\n",
    "    .rename(columns={'index': 'is_premium', 'is_premium': 'test'})\n",
    "is_premium_control_1 = users_control_1.is_premium.value_counts(normalize=True)\\\n",
    "    .round(2).reset_index()\\\n",
    "    .rename(columns={'index': 'is_premium', 'is_premium': 'control_1'})\n",
    "is_premium_control_2 = users_control_2.is_premium.value_counts(normalize=True)\\\n",
    "    .round(2).reset_index()\\\n",
    "    .rename(columns={'index': 'is_premium', 'is_premium': 'control_2'})\n",
    "is_premium_test_control = is_premium_test.merge(is_premium_control_1, how='inner', on='is_premium')\n",
    "is_premium_all = is_premium_test_control.merge(is_premium_control_2, how='inner', on='is_premium')\n",
    "is_premium_all"
   ]
  },
  {
   "cell_type": "code",
   "execution_count": 301,
   "metadata": {},
   "outputs": [],
   "source": [
    "# Создам функцию для подсчета дохода и процента количества платящих пользователей.\n",
    "def total_revenue_all(base, column):\n",
    "    df = pd.DataFrame(\n",
    "        [\n",
    "            [\n",
    "                round(\n",
    "                    base.query(\"total_revenue > 0\").shape[0] / users_test.shape[0] * 100,\n",
    "                    2,\n",
    "                )\n",
    "            ],\n",
    "            [base.total_revenue.sum()],\n",
    "        ],\n",
    "        index=[\"Percent_total_revenue\", \"Sum_total_revenue\"],\n",
    "        columns=[column],\n",
    "    )\n",
    "    return df"
   ]
  },
  {
   "cell_type": "code",
   "execution_count": 302,
   "metadata": {},
   "outputs": [
    {
     "data": {
      "text/html": [
       "<div>\n",
       "<style scoped>\n",
       "    .dataframe tbody tr th:only-of-type {\n",
       "        vertical-align: middle;\n",
       "    }\n",
       "\n",
       "    .dataframe tbody tr th {\n",
       "        vertical-align: top;\n",
       "    }\n",
       "\n",
       "    .dataframe thead th {\n",
       "        text-align: right;\n",
       "    }\n",
       "</style>\n",
       "<table border=\"1\" class=\"dataframe\">\n",
       "  <thead>\n",
       "    <tr style=\"text-align: right;\">\n",
       "      <th></th>\n",
       "      <th>test</th>\n",
       "      <th>control_1</th>\n",
       "      <th>control_2</th>\n",
       "    </tr>\n",
       "  </thead>\n",
       "  <tbody>\n",
       "    <tr>\n",
       "      <th>Percent_total_revenue</th>\n",
       "      <td>3.39</td>\n",
       "      <td>4.46</td>\n",
       "      <td>4.34</td>\n",
       "    </tr>\n",
       "    <tr>\n",
       "      <th>Sum_total_revenue</th>\n",
       "      <td>2300818.00</td>\n",
       "      <td>2581267.00</td>\n",
       "      <td>1920438.00</td>\n",
       "    </tr>\n",
       "  </tbody>\n",
       "</table>\n",
       "</div>"
      ],
      "text/plain": [
       "                             test   control_1   control_2\n",
       "Percent_total_revenue        3.39        4.46        4.34\n",
       "Sum_total_revenue      2300818.00  2581267.00  1920438.00"
      ]
     },
     "execution_count": 302,
     "metadata": {},
     "output_type": "execute_result"
    }
   ],
   "source": [
    "# Самое интересное это то, что наименьший процент у тестовой группы, что уже заставляет задуматься о целесобразности\n",
    "# повышения цены, при том, что общая выручка в тестовой группе не самая большая.\n",
    "users_test_revenue = total_revenue_all(users_test, 'test')\n",
    "users_control_1_revenue = total_revenue_all(users_control_1, 'control_1')\n",
    "users_control_2_revenue = total_revenue_all(users_control_2, 'control_2')\n",
    "revenue_all_base = users_test_revenue\n",
    "revenue_all_base['control_1'] = users_control_1_revenue['control_1']\n",
    "revenue_all_base['control_2'] = users_control_2_revenue['control_2']\n",
    "revenue_all_base"
   ]
  },
  {
   "cell_type": "code",
   "execution_count": null,
   "metadata": {},
   "outputs": [],
   "source": []
  },
  {
   "cell_type": "markdown",
   "metadata": {},
   "source": [
    "## _Выводы_"
   ]
  },
  {
   "cell_type": "markdown",
   "metadata": {},
   "source": [
    "- Все три группы похожи между собой, явных аномалий с данными не выявленно\n",
    "- ID пользователей уникальны, дубликатов нет\n",
    "- Некоторые участники не указывают свои реальный возраст, это следует учесть при дальнейшем исследование\n",
    "- Количество пользователей, которые за что-либо платили не превышае 4,5%\n",
    "- По гендерному различию во всех группах значительно преобладают мужчины более 95%\n",
    "- В тестовой группе наименьший процент платящих пользователей от всех пользователей, при не самой большой выручке.\n",
    "- По страна распределение равномерное\n",
    "- Пользователей внутреней валютой в группах не велико, не более 2%, есть единичные случае, у кого аномально \n",
    "  большое количество монет, предположу, что пользователи дополнительно покупают монетки за реальные деньги"
   ]
  },
  {
   "cell_type": "markdown",
   "metadata": {},
   "source": [
    "## _1.2 Анализ данных таблиц transactions_"
   ]
  },
  {
   "cell_type": "code",
   "execution_count": 303,
   "metadata": {},
   "outputs": [
    {
     "data": {
      "text/html": [
       "<div>\n",
       "<style scoped>\n",
       "    .dataframe tbody tr th:only-of-type {\n",
       "        vertical-align: middle;\n",
       "    }\n",
       "\n",
       "    .dataframe tbody tr th {\n",
       "        vertical-align: top;\n",
       "    }\n",
       "\n",
       "    .dataframe thead th {\n",
       "        text-align: right;\n",
       "    }\n",
       "</style>\n",
       "<table border=\"1\" class=\"dataframe\">\n",
       "  <thead>\n",
       "    <tr style=\"text-align: right;\">\n",
       "      <th></th>\n",
       "      <th>uid</th>\n",
       "      <th>country</th>\n",
       "      <th>joined_at</th>\n",
       "      <th>paid_at</th>\n",
       "      <th>revenue</th>\n",
       "      <th>payment_id</th>\n",
       "      <th>from_page</th>\n",
       "      <th>product_type</th>\n",
       "    </tr>\n",
       "  </thead>\n",
       "  <tbody>\n",
       "    <tr>\n",
       "      <th>0</th>\n",
       "      <td>891345942</td>\n",
       "      <td>Italy</td>\n",
       "      <td>2017-05-11 13:00:00</td>\n",
       "      <td>2017-11-13 15:04:00</td>\n",
       "      <td>12909</td>\n",
       "      <td>147</td>\n",
       "      <td>trial_vip_popup</td>\n",
       "      <td>trial_premium</td>\n",
       "    </tr>\n",
       "    <tr>\n",
       "      <th>1</th>\n",
       "      <td>892054251</td>\n",
       "      <td>United States of America</td>\n",
       "      <td>2017-10-22 00:33:00</td>\n",
       "      <td>2017-10-30 01:37:00</td>\n",
       "      <td>13923</td>\n",
       "      <td>147</td>\n",
       "      <td>trial_vip_popup</td>\n",
       "      <td>trial_premium</td>\n",
       "    </tr>\n",
       "    <tr>\n",
       "      <th>2</th>\n",
       "      <td>892236423</td>\n",
       "      <td>United States of America</td>\n",
       "      <td>2017-10-18 01:09:00</td>\n",
       "      <td>2017-10-23 00:15:00</td>\n",
       "      <td>3783</td>\n",
       "      <td>67</td>\n",
       "      <td>menu</td>\n",
       "      <td>other_type</td>\n",
       "    </tr>\n",
       "    <tr>\n",
       "      <th>3</th>\n",
       "      <td>892236423</td>\n",
       "      <td>United States of America</td>\n",
       "      <td>2017-10-18 01:09:00</td>\n",
       "      <td>2017-10-27 22:38:00</td>\n",
       "      <td>3783</td>\n",
       "      <td>67</td>\n",
       "      <td>menu</td>\n",
       "      <td>other_type</td>\n",
       "    </tr>\n",
       "    <tr>\n",
       "      <th>4</th>\n",
       "      <td>892168170</td>\n",
       "      <td>United States of America</td>\n",
       "      <td>2017-10-19 17:10:00</td>\n",
       "      <td>2017-10-27 19:10:00</td>\n",
       "      <td>9087</td>\n",
       "      <td>147</td>\n",
       "      <td>trial_vip_popup</td>\n",
       "      <td>trial_premium</td>\n",
       "    </tr>\n",
       "  </tbody>\n",
       "</table>\n",
       "</div>"
      ],
      "text/plain": [
       "         uid                   country           joined_at  \\\n",
       "0  891345942                     Italy 2017-05-11 13:00:00   \n",
       "1  892054251  United States of America 2017-10-22 00:33:00   \n",
       "2  892236423  United States of America 2017-10-18 01:09:00   \n",
       "3  892236423  United States of America 2017-10-18 01:09:00   \n",
       "4  892168170  United States of America 2017-10-19 17:10:00   \n",
       "\n",
       "              paid_at  revenue  payment_id        from_page   product_type  \n",
       "0 2017-11-13 15:04:00    12909         147  trial_vip_popup  trial_premium  \n",
       "1 2017-10-30 01:37:00    13923         147  trial_vip_popup  trial_premium  \n",
       "2 2017-10-23 00:15:00     3783          67             menu     other_type  \n",
       "3 2017-10-27 22:38:00     3783          67             menu     other_type  \n",
       "4 2017-10-27 19:10:00     9087         147  trial_vip_popup  trial_premium  "
      ]
     },
     "execution_count": 303,
     "metadata": {},
     "output_type": "execute_result"
    }
   ],
   "source": [
    "transactions_test.head()"
   ]
  },
  {
   "cell_type": "code",
   "execution_count": 304,
   "metadata": {},
   "outputs": [
    {
     "data": {
      "text/html": [
       "<div>\n",
       "<style scoped>\n",
       "    .dataframe tbody tr th:only-of-type {\n",
       "        vertical-align: middle;\n",
       "    }\n",
       "\n",
       "    .dataframe tbody tr th {\n",
       "        vertical-align: top;\n",
       "    }\n",
       "\n",
       "    .dataframe thead th {\n",
       "        text-align: right;\n",
       "    }\n",
       "</style>\n",
       "<table border=\"1\" class=\"dataframe\">\n",
       "  <thead>\n",
       "    <tr style=\"text-align: right;\">\n",
       "      <th></th>\n",
       "      <th>test</th>\n",
       "      <th>control_1</th>\n",
       "      <th>control_2</th>\n",
       "    </tr>\n",
       "  </thead>\n",
       "  <tbody>\n",
       "    <tr>\n",
       "      <th>uid</th>\n",
       "      <td>0</td>\n",
       "      <td>630</td>\n",
       "      <td>0</td>\n",
       "    </tr>\n",
       "    <tr>\n",
       "      <th>country</th>\n",
       "      <td>0</td>\n",
       "      <td>630</td>\n",
       "      <td>0</td>\n",
       "    </tr>\n",
       "    <tr>\n",
       "      <th>joined_at</th>\n",
       "      <td>0</td>\n",
       "      <td>630</td>\n",
       "      <td>0</td>\n",
       "    </tr>\n",
       "    <tr>\n",
       "      <th>paid_at</th>\n",
       "      <td>0</td>\n",
       "      <td>630</td>\n",
       "      <td>0</td>\n",
       "    </tr>\n",
       "    <tr>\n",
       "      <th>revenue</th>\n",
       "      <td>0</td>\n",
       "      <td>630</td>\n",
       "      <td>0</td>\n",
       "    </tr>\n",
       "    <tr>\n",
       "      <th>payment_id</th>\n",
       "      <td>0</td>\n",
       "      <td>630</td>\n",
       "      <td>0</td>\n",
       "    </tr>\n",
       "    <tr>\n",
       "      <th>from_page</th>\n",
       "      <td>0</td>\n",
       "      <td>630</td>\n",
       "      <td>0</td>\n",
       "    </tr>\n",
       "    <tr>\n",
       "      <th>product_type</th>\n",
       "      <td>0</td>\n",
       "      <td>630</td>\n",
       "      <td>0</td>\n",
       "    </tr>\n",
       "  </tbody>\n",
       "</table>\n",
       "</div>"
      ],
      "text/plain": [
       "              test  control_1  control_2\n",
       "uid              0        630          0\n",
       "country          0        630          0\n",
       "joined_at        0        630          0\n",
       "paid_at          0        630          0\n",
       "revenue          0        630          0\n",
       "payment_id       0        630          0\n",
       "from_page        0        630          0\n",
       "product_type     0        630          0"
      ]
     },
     "execution_count": 304,
     "metadata": {},
     "output_type": "execute_result"
    }
   ],
   "source": [
    "# Проверяем на пропуски\n",
    "# Как мы видим в control_1, есть 630 пустых строк, которые следует удалить.\n",
    "isna_transactions = transactions_test.isna().sum().to_frame().rename(columns={0: 'test'})\n",
    "isna_transactions['control_1'] = transactions_control_1.isna().sum()\n",
    "isna_transactions['control_2'] = transactions_control_2.isna().sum()\n",
    "isna_transactions"
   ]
  },
  {
   "cell_type": "code",
   "execution_count": 305,
   "metadata": {},
   "outputs": [],
   "source": [
    "transactions_control_1 = transactions_control_1.dropna()"
   ]
  },
  {
   "cell_type": "code",
   "execution_count": 306,
   "metadata": {},
   "outputs": [
    {
     "data": {
      "text/html": [
       "<div>\n",
       "<style scoped>\n",
       "    .dataframe tbody tr th:only-of-type {\n",
       "        vertical-align: middle;\n",
       "    }\n",
       "\n",
       "    .dataframe tbody tr th {\n",
       "        vertical-align: top;\n",
       "    }\n",
       "\n",
       "    .dataframe thead th {\n",
       "        text-align: right;\n",
       "    }\n",
       "</style>\n",
       "<table border=\"1\" class=\"dataframe\">\n",
       "  <thead>\n",
       "    <tr style=\"text-align: right;\">\n",
       "      <th></th>\n",
       "      <th>test</th>\n",
       "      <th>control_1</th>\n",
       "      <th>control_2</th>\n",
       "    </tr>\n",
       "  </thead>\n",
       "  <tbody>\n",
       "    <tr>\n",
       "      <th>uid</th>\n",
       "      <td>int64</td>\n",
       "      <td>float64</td>\n",
       "      <td>int64</td>\n",
       "    </tr>\n",
       "    <tr>\n",
       "      <th>country</th>\n",
       "      <td>object</td>\n",
       "      <td>object</td>\n",
       "      <td>object</td>\n",
       "    </tr>\n",
       "    <tr>\n",
       "      <th>joined_at</th>\n",
       "      <td>datetime64[ns]</td>\n",
       "      <td>datetime64[ns]</td>\n",
       "      <td>datetime64[ns]</td>\n",
       "    </tr>\n",
       "    <tr>\n",
       "      <th>paid_at</th>\n",
       "      <td>datetime64[ns]</td>\n",
       "      <td>datetime64[ns]</td>\n",
       "      <td>datetime64[ns]</td>\n",
       "    </tr>\n",
       "    <tr>\n",
       "      <th>revenue</th>\n",
       "      <td>int64</td>\n",
       "      <td>float64</td>\n",
       "      <td>int64</td>\n",
       "    </tr>\n",
       "    <tr>\n",
       "      <th>payment_id</th>\n",
       "      <td>int64</td>\n",
       "      <td>float64</td>\n",
       "      <td>int64</td>\n",
       "    </tr>\n",
       "    <tr>\n",
       "      <th>from_page</th>\n",
       "      <td>object</td>\n",
       "      <td>object</td>\n",
       "      <td>object</td>\n",
       "    </tr>\n",
       "    <tr>\n",
       "      <th>product_type</th>\n",
       "      <td>object</td>\n",
       "      <td>object</td>\n",
       "      <td>object</td>\n",
       "    </tr>\n",
       "  </tbody>\n",
       "</table>\n",
       "</div>"
      ],
      "text/plain": [
       "                        test       control_1       control_2\n",
       "uid                    int64         float64           int64\n",
       "country               object          object          object\n",
       "joined_at     datetime64[ns]  datetime64[ns]  datetime64[ns]\n",
       "paid_at       datetime64[ns]  datetime64[ns]  datetime64[ns]\n",
       "revenue                int64         float64           int64\n",
       "payment_id             int64         float64           int64\n",
       "from_page             object          object          object\n",
       "product_type          object          object          object"
      ]
     },
     "execution_count": 306,
     "metadata": {},
     "output_type": "execute_result"
    }
   ],
   "source": [
    "# Посмотрим на тип данных \n",
    "dtypes_transactions = transactions_test.dtypes.to_frame().rename(columns={0: 'test'})\n",
    "dtypes_transactions['control_1'] = transactions_control_1.dtypes\n",
    "dtypes_transactions['control_2'] = transactions_control_2.dtypes\n",
    "dtypes_transactions"
   ]
  },
  {
   "cell_type": "code",
   "execution_count": 307,
   "metadata": {},
   "outputs": [],
   "source": [
    "# Следует провести следующие изменения: uid = int64, revenue = float64, payment_id = int64.\n",
    "transactions_control_1 = transactions_control_1.astype({'uid': 'int64', 'payment_id': 'int64'})\n",
    "transactions_test = transactions_test.astype({'revenue': 'float64'})\n",
    "transactions_control_2 = transactions_control_2.astype({'revenue': 'float64'})"
   ]
  },
  {
   "cell_type": "code",
   "execution_count": 308,
   "metadata": {},
   "outputs": [
    {
     "data": {
      "text/plain": [
       "127"
      ]
     },
     "execution_count": 308,
     "metadata": {},
     "output_type": "execute_result"
    }
   ],
   "source": [
    "# Проверим id пользователей на уникальность. Значения не уникальны, предположу, что для каждой транзакции своя строка.\n",
    "# При дальнейшем исследование это стоит учесть.\n",
    "transactions_test.shape[0] - transactions_test.uid.nunique()"
   ]
  },
  {
   "cell_type": "code",
   "execution_count": 309,
   "metadata": {},
   "outputs": [
    {
     "data": {
      "text/plain": [
       "184"
      ]
     },
     "execution_count": 309,
     "metadata": {},
     "output_type": "execute_result"
    }
   ],
   "source": [
    "transactions_control_1.shape[0] - transactions_control_1.uid.nunique()"
   ]
  },
  {
   "cell_type": "code",
   "execution_count": 310,
   "metadata": {},
   "outputs": [
    {
     "data": {
      "text/plain": [
       "141"
      ]
     },
     "execution_count": 310,
     "metadata": {},
     "output_type": "execute_result"
    }
   ],
   "source": [
    "transactions_control_2.shape[0] - transactions_control_2.uid.nunique()"
   ]
  },
  {
   "cell_type": "code",
   "execution_count": 311,
   "metadata": {},
   "outputs": [
    {
     "data": {
      "text/html": [
       "<div>\n",
       "<style scoped>\n",
       "    .dataframe tbody tr th:only-of-type {\n",
       "        vertical-align: middle;\n",
       "    }\n",
       "\n",
       "    .dataframe tbody tr th {\n",
       "        vertical-align: top;\n",
       "    }\n",
       "\n",
       "    .dataframe thead th {\n",
       "        text-align: right;\n",
       "    }\n",
       "</style>\n",
       "<table border=\"1\" class=\"dataframe\">\n",
       "  <thead>\n",
       "    <tr style=\"text-align: right;\">\n",
       "      <th></th>\n",
       "      <th>country</th>\n",
       "      <th>test</th>\n",
       "      <th>control_1</th>\n",
       "      <th>control_2</th>\n",
       "    </tr>\n",
       "  </thead>\n",
       "  <tbody>\n",
       "    <tr>\n",
       "      <th>0</th>\n",
       "      <td>United States of America</td>\n",
       "      <td>52.0</td>\n",
       "      <td>60.0</td>\n",
       "      <td>64.0</td>\n",
       "    </tr>\n",
       "    <tr>\n",
       "      <th>1</th>\n",
       "      <td>Spain</td>\n",
       "      <td>15.0</td>\n",
       "      <td>9.0</td>\n",
       "      <td>12.0</td>\n",
       "    </tr>\n",
       "    <tr>\n",
       "      <th>2</th>\n",
       "      <td>France</td>\n",
       "      <td>13.0</td>\n",
       "      <td>22.0</td>\n",
       "      <td>19.0</td>\n",
       "    </tr>\n",
       "    <tr>\n",
       "      <th>3</th>\n",
       "      <td>United Arab Emirates</td>\n",
       "      <td>9.0</td>\n",
       "      <td>7.0</td>\n",
       "      <td>5.0</td>\n",
       "    </tr>\n",
       "    <tr>\n",
       "      <th>4</th>\n",
       "      <td>Italy</td>\n",
       "      <td>9.0</td>\n",
       "      <td>17.0</td>\n",
       "      <td>16.0</td>\n",
       "    </tr>\n",
       "  </tbody>\n",
       "</table>\n",
       "</div>"
      ],
      "text/plain": [
       "                    country  test  control_1  control_2\n",
       "0  United States of America  52.0       60.0       64.0\n",
       "1                     Spain  15.0        9.0       12.0\n",
       "2                    France  13.0       22.0       19.0\n",
       "3      United Arab Emirates   9.0        7.0        5.0\n",
       "4                     Italy   9.0       17.0       16.0"
      ]
     },
     "execution_count": 311,
     "metadata": {},
     "output_type": "execute_result"
    }
   ],
   "source": [
    "# Посмотрим из каких стран пользователи оплачивали услуги.\n",
    "# Как мы видим подавляющее большиство платежей из США, далее с большим отрывом идут страны из Западной Европы и ОАЭ.\n",
    "transactions_country_test = transactions_test\\\n",
    "    .groupby(['uid', 'country'], as_index=False)\\\n",
    "    .agg({'revenue': 'sum'})\\\n",
    "    .groupby(['country'], as_index=False)\\\n",
    "    .agg({'uid': 'count'})\\\n",
    "    .sort_values('uid', ascending=False)\\\n",
    "    .rename(columns={'uid': 'test'})\n",
    "transactions_country_control_1 = transactions_control_1\\\n",
    "    .groupby(['uid', 'country'], as_index=False)\\\n",
    "    .agg({'revenue': 'sum'})\\\n",
    "    .groupby(['country'], as_index=False)\\\n",
    "    .agg({'uid': 'count'})\\\n",
    "    .sort_values('uid', ascending=False)\\\n",
    "    .rename(columns={'uid': 'control_1'})\n",
    "transactions_country_control_2 = transactions_control_2\\\n",
    "    .groupby(['uid', 'country'], as_index=False)\\\n",
    "    .agg({'revenue': 'sum'})\\\n",
    "    .groupby(['country'], as_index=False)\\\n",
    "    .agg({'uid': 'count'})\\\n",
    "    .sort_values('uid', ascending=False)\\\n",
    "    .rename(columns={'uid': 'control_2'})\n",
    "transactions_country = transactions_country_test.merge(transactions_country_control_1, how='outer', on='country')\n",
    "transactions_country_all = transactions_country.merge(transactions_country_control_2, how='outer', on='country')\n",
    "transactions_country_all.head()"
   ]
  },
  {
   "cell_type": "code",
   "execution_count": 312,
   "metadata": {},
   "outputs": [],
   "source": [
    "# С датами наблюдаются определенные проблемы.\n",
    "# Значительная часть транзакций в каждой группе совершена раньше регистрации. Предположу, что произошел сбой в\n",
    "# регистрации пользователей. Удалять данные не вижу смысла так, как это сильно повлияет на результаты тестов.\n",
    "# В control_1 есть один пользователь из РФ, который сильно выбивается из временных рамок остальных пользователей.\n",
    "# Предположу, что его включили ошибочно в контрольную группу. Моё решение - его следует удалить.\n",
    "transactions_test['delta_pay_days'] = transactions_test.joined_at - transactions_test.paid_at\n",
    "transactions_control_1['delta_pay_days'] = transactions_control_1.joined_at - transactions_control_1.paid_at\n",
    "transactions_control_2['delta_pay_days'] = transactions_control_2.joined_at - transactions_control_2.paid_at"
   ]
  },
  {
   "cell_type": "code",
   "execution_count": 313,
   "metadata": {},
   "outputs": [
    {
     "data": {
      "text/plain": [
       "47"
      ]
     },
     "execution_count": 313,
     "metadata": {},
     "output_type": "execute_result"
    }
   ],
   "source": [
    "transactions_test.query('delta_pay_days > \"0 days\"').shape[0]"
   ]
  },
  {
   "cell_type": "code",
   "execution_count": 314,
   "metadata": {},
   "outputs": [
    {
     "data": {
      "text/plain": [
       "55"
      ]
     },
     "execution_count": 314,
     "metadata": {},
     "output_type": "execute_result"
    }
   ],
   "source": [
    "transactions_control_1.query('delta_pay_days >= \"0 days\"').shape[0]"
   ]
  },
  {
   "cell_type": "code",
   "execution_count": 315,
   "metadata": {},
   "outputs": [
    {
     "data": {
      "text/plain": [
       "60"
      ]
     },
     "execution_count": 315,
     "metadata": {},
     "output_type": "execute_result"
    }
   ],
   "source": [
    "transactions_control_2.query('delta_pay_days >= \"0 days\"').shape[0]"
   ]
  },
  {
   "cell_type": "code",
   "execution_count": 316,
   "metadata": {},
   "outputs": [],
   "source": [
    "transactions_control_1 = transactions_control_1.drop(index=[101, 65, 224])"
   ]
  },
  {
   "cell_type": "code",
   "execution_count": 317,
   "metadata": {},
   "outputs": [
    {
     "data": {
      "text/plain": [
       "-44083.0"
      ]
     },
     "execution_count": 317,
     "metadata": {},
     "output_type": "execute_result"
    }
   ],
   "source": [
    "# Сравнив выручку в двух таблицах users и transactions, по идеи они должны совпадать, и их разница должна равна 0\n",
    "# Как мы видим только в control_2 все хорошо, в остальных таблицах стоит разобраться, почему есть разница.\n",
    "users_test.total_revenue.sum() - transactions_test.revenue.sum()"
   ]
  },
  {
   "cell_type": "code",
   "execution_count": 318,
   "metadata": {},
   "outputs": [
    {
     "data": {
      "text/plain": [
       "-30238.0"
      ]
     },
     "execution_count": 318,
     "metadata": {},
     "output_type": "execute_result"
    }
   ],
   "source": [
    "users_control_1.total_revenue.sum() - transactions_control_1.revenue.sum()"
   ]
  },
  {
   "cell_type": "code",
   "execution_count": 319,
   "metadata": {},
   "outputs": [
    {
     "data": {
      "text/plain": [
       "0.0"
      ]
     },
     "execution_count": 319,
     "metadata": {},
     "output_type": "execute_result"
    }
   ],
   "source": [
    "users_control_2.total_revenue.sum() - transactions_control_2.revenue.sum()"
   ]
  },
  {
   "cell_type": "code",
   "execution_count": 320,
   "metadata": {},
   "outputs": [
    {
     "data": {
      "text/html": [
       "<div>\n",
       "<style scoped>\n",
       "    .dataframe tbody tr th:only-of-type {\n",
       "        vertical-align: middle;\n",
       "    }\n",
       "\n",
       "    .dataframe tbody tr th {\n",
       "        vertical-align: top;\n",
       "    }\n",
       "\n",
       "    .dataframe thead th {\n",
       "        text-align: right;\n",
       "    }\n",
       "</style>\n",
       "<table border=\"1\" class=\"dataframe\">\n",
       "  <thead>\n",
       "    <tr style=\"text-align: right;\">\n",
       "      <th></th>\n",
       "      <th>uid</th>\n",
       "      <th>age</th>\n",
       "      <th>attraction_coeff</th>\n",
       "      <th>coins</th>\n",
       "      <th>country</th>\n",
       "      <th>visit_days</th>\n",
       "      <th>gender</th>\n",
       "      <th>age_filter_start</th>\n",
       "      <th>age_filter_end</th>\n",
       "      <th>views_count</th>\n",
       "      <th>was_premium</th>\n",
       "      <th>is_premium</th>\n",
       "      <th>total_revenue</th>\n",
       "      <th>count_days</th>\n",
       "      <th>transactions_revenue</th>\n",
       "      <th>delta_revenue</th>\n",
       "    </tr>\n",
       "  </thead>\n",
       "  <tbody>\n",
       "    <tr>\n",
       "      <th>2070</th>\n",
       "      <td>892275462</td>\n",
       "      <td>31</td>\n",
       "      <td>310</td>\n",
       "      <td>0.0</td>\n",
       "      <td>France</td>\n",
       "      <td>1,2,3,4,5,9,13,15,16</td>\n",
       "      <td>1</td>\n",
       "      <td>36</td>\n",
       "      <td>68</td>\n",
       "      <td>58</td>\n",
       "      <td>1.0</td>\n",
       "      <td>1.0</td>\n",
       "      <td>14885</td>\n",
       "      <td>9.0</td>\n",
       "      <td>58968.0</td>\n",
       "      <td>-44083.0</td>\n",
       "    </tr>\n",
       "  </tbody>\n",
       "</table>\n",
       "</div>"
      ],
      "text/plain": [
       "            uid  age  attraction_coeff  coins country            visit_days  \\\n",
       "2070  892275462   31               310    0.0  France  1,2,3,4,5,9,13,15,16   \n",
       "\n",
       "      gender  age_filter_start  age_filter_end  views_count  was_premium  \\\n",
       "2070       1                36              68           58          1.0   \n",
       "\n",
       "      is_premium  total_revenue  count_days  transactions_revenue  \\\n",
       "2070         1.0          14885         9.0               58968.0   \n",
       "\n",
       "      delta_revenue  \n",
       "2070       -44083.0  "
      ]
     },
     "execution_count": 320,
     "metadata": {},
     "output_type": "execute_result"
    }
   ],
   "source": [
    "# В тестовой группе нашли пользователя, по которому данные отличаются, посмотрим подробнее транзакции \n",
    "transactions_test_revenue = transactions_test\\\n",
    "    .groupby(['uid'], as_index=False)\\\n",
    "    .agg({'revenue': 'sum'})\\\n",
    "    .rename(columns={'revenue': 'transactions_revenue'})\n",
    "users_test = users_test.merge(transactions_test_revenue, how='outer', on='uid')\n",
    "users_test = users_test.fillna(0)\n",
    "users_test['delta_revenue'] = users_test.total_revenue - users_test.transactions_revenue\n",
    "users_test.query('delta_revenue != 0')"
   ]
  },
  {
   "cell_type": "code",
   "execution_count": 321,
   "metadata": {},
   "outputs": [
    {
     "data": {
      "text/html": [
       "<div>\n",
       "<style scoped>\n",
       "    .dataframe tbody tr th:only-of-type {\n",
       "        vertical-align: middle;\n",
       "    }\n",
       "\n",
       "    .dataframe tbody tr th {\n",
       "        vertical-align: top;\n",
       "    }\n",
       "\n",
       "    .dataframe thead th {\n",
       "        text-align: right;\n",
       "    }\n",
       "</style>\n",
       "<table border=\"1\" class=\"dataframe\">\n",
       "  <thead>\n",
       "    <tr style=\"text-align: right;\">\n",
       "      <th></th>\n",
       "      <th>uid</th>\n",
       "      <th>country</th>\n",
       "      <th>joined_at</th>\n",
       "      <th>paid_at</th>\n",
       "      <th>revenue</th>\n",
       "      <th>payment_id</th>\n",
       "      <th>from_page</th>\n",
       "      <th>product_type</th>\n",
       "      <th>delta_pay_days</th>\n",
       "    </tr>\n",
       "  </thead>\n",
       "  <tbody>\n",
       "    <tr>\n",
       "      <th>64</th>\n",
       "      <td>892275462</td>\n",
       "      <td>France</td>\n",
       "      <td>2017-10-17 05:56:00</td>\n",
       "      <td>2017-02-11 18:24:00</td>\n",
       "      <td>44083.0</td>\n",
       "      <td>19</td>\n",
       "      <td>coins_popup</td>\n",
       "      <td>other_type</td>\n",
       "      <td>247 days 11:32:00</td>\n",
       "    </tr>\n",
       "    <tr>\n",
       "      <th>154</th>\n",
       "      <td>892275462</td>\n",
       "      <td>France</td>\n",
       "      <td>2017-10-17 05:56:00</td>\n",
       "      <td>2017-10-20 17:00:00</td>\n",
       "      <td>14885.0</td>\n",
       "      <td>68</td>\n",
       "      <td>super_popup</td>\n",
       "      <td>other_type</td>\n",
       "      <td>-4 days +12:56:00</td>\n",
       "    </tr>\n",
       "  </tbody>\n",
       "</table>\n",
       "</div>"
      ],
      "text/plain": [
       "           uid country           joined_at             paid_at  revenue  \\\n",
       "64   892275462  France 2017-10-17 05:56:00 2017-02-11 18:24:00  44083.0   \n",
       "154  892275462  France 2017-10-17 05:56:00 2017-10-20 17:00:00  14885.0   \n",
       "\n",
       "     payment_id    from_page product_type    delta_pay_days  \n",
       "64           19  coins_popup   other_type 247 days 11:32:00  \n",
       "154          68  super_popup   other_type -4 days +12:56:00  "
      ]
     },
     "execution_count": 321,
     "metadata": {},
     "output_type": "execute_result"
    }
   ],
   "source": [
    "# Нашли транзакцию, которая не учтена в таблице users, считаю, что её надо добавить. \n",
    "transactions_test.query('uid == 892275462')"
   ]
  },
  {
   "cell_type": "code",
   "execution_count": 322,
   "metadata": {},
   "outputs": [],
   "source": [
    "users_test.loc[(users_test.total_revenue == 14885), 'total_revenue'] = 58968"
   ]
  },
  {
   "cell_type": "code",
   "execution_count": 323,
   "metadata": {},
   "outputs": [
    {
     "data": {
      "text/plain": [
       "0.0"
      ]
     },
     "execution_count": 323,
     "metadata": {},
     "output_type": "execute_result"
    }
   ],
   "source": [
    "users_test.total_revenue.sum() - transactions_test.revenue.sum()"
   ]
  },
  {
   "cell_type": "code",
   "execution_count": 324,
   "metadata": {},
   "outputs": [
    {
     "data": {
      "text/html": [
       "<div>\n",
       "<style scoped>\n",
       "    .dataframe tbody tr th:only-of-type {\n",
       "        vertical-align: middle;\n",
       "    }\n",
       "\n",
       "    .dataframe tbody tr th {\n",
       "        vertical-align: top;\n",
       "    }\n",
       "\n",
       "    .dataframe thead th {\n",
       "        text-align: right;\n",
       "    }\n",
       "</style>\n",
       "<table border=\"1\" class=\"dataframe\">\n",
       "  <thead>\n",
       "    <tr style=\"text-align: right;\">\n",
       "      <th></th>\n",
       "      <th>uid</th>\n",
       "      <th>age</th>\n",
       "      <th>attraction_coeff</th>\n",
       "      <th>coins</th>\n",
       "      <th>country</th>\n",
       "      <th>visit_days</th>\n",
       "      <th>gender</th>\n",
       "      <th>age_filter_start</th>\n",
       "      <th>age_filter_end</th>\n",
       "      <th>views_count</th>\n",
       "      <th>was_premium</th>\n",
       "      <th>is_premium</th>\n",
       "      <th>total_revenue</th>\n",
       "      <th>count_days</th>\n",
       "      <th>transactions_revenue</th>\n",
       "      <th>delta_revenue</th>\n",
       "    </tr>\n",
       "  </thead>\n",
       "  <tbody>\n",
       "    <tr>\n",
       "      <th>510</th>\n",
       "      <td>960936960</td>\n",
       "      <td>30</td>\n",
       "      <td>4</td>\n",
       "      <td>99958.0</td>\n",
       "      <td>Russian Federation</td>\n",
       "      <td>1,2,3,4,7,8,9,10,11,14,15,16,17,18,21,22,23,24...</td>\n",
       "      <td>1</td>\n",
       "      <td>26</td>\n",
       "      <td>62</td>\n",
       "      <td>4262</td>\n",
       "      <td>1.0</td>\n",
       "      <td>1.0</td>\n",
       "      <td>26</td>\n",
       "      <td>27.0</td>\n",
       "      <td>0.0</td>\n",
       "      <td>26.0</td>\n",
       "    </tr>\n",
       "    <tr>\n",
       "      <th>3370</th>\n",
       "      <td>892355163</td>\n",
       "      <td>40</td>\n",
       "      <td>640</td>\n",
       "      <td>0.0</td>\n",
       "      <td>United States of America</td>\n",
       "      <td>1,2,3,4,5,6,7,8,9,10,11,12,13,14,15,16,17,18,1...</td>\n",
       "      <td>1</td>\n",
       "      <td>25</td>\n",
       "      <td>60</td>\n",
       "      <td>700</td>\n",
       "      <td>1.0</td>\n",
       "      <td>0.0</td>\n",
       "      <td>0</td>\n",
       "      <td>29.0</td>\n",
       "      <td>30264.0</td>\n",
       "      <td>-30264.0</td>\n",
       "    </tr>\n",
       "  </tbody>\n",
       "</table>\n",
       "</div>"
      ],
      "text/plain": [
       "            uid  age  attraction_coeff    coins                   country  \\\n",
       "510   960936960   30                 4  99958.0        Russian Federation   \n",
       "3370  892355163   40               640      0.0  United States of America   \n",
       "\n",
       "                                             visit_days  gender  \\\n",
       "510   1,2,3,4,7,8,9,10,11,14,15,16,17,18,21,22,23,24...       1   \n",
       "3370  1,2,3,4,5,6,7,8,9,10,11,12,13,14,15,16,17,18,1...       1   \n",
       "\n",
       "      age_filter_start  age_filter_end  views_count  was_premium  is_premium  \\\n",
       "510                 26              62         4262          1.0         1.0   \n",
       "3370                25              60          700          1.0         0.0   \n",
       "\n",
       "      total_revenue  count_days  transactions_revenue  delta_revenue  \n",
       "510              26        27.0                   0.0           26.0  \n",
       "3370              0        29.0               30264.0       -30264.0  "
      ]
     },
     "execution_count": 324,
     "metadata": {},
     "output_type": "execute_result"
    }
   ],
   "source": [
    "# В группе control_1 нашли двух пользователей, которых нет в таблице users\n",
    "# Первый это удаленный пользователь, которого тоже из users надо удалить\n",
    "# По второму надо смотреть транзакции\n",
    "transactions_control_1_revenue = transactions_control_1\\\n",
    "    .groupby(['uid'], as_index=False)\\\n",
    "    .agg({'revenue': 'sum'})\\\n",
    "    .rename(columns={'revenue': 'transactions_revenue'})\n",
    "users_control_1 = users_control_1.merge(transactions_control_1_revenue, how='outer', on='uid')\n",
    "users_control_1 = users_control_1.fillna(0)\n",
    "users_control_1['delta_revenue'] = users_control_1.total_revenue - users_control_1.transactions_revenue\n",
    "users_control_1.query('delta_revenue != 0')"
   ]
  },
  {
   "cell_type": "code",
   "execution_count": 325,
   "metadata": {},
   "outputs": [
    {
     "data": {
      "text/html": [
       "<div>\n",
       "<style scoped>\n",
       "    .dataframe tbody tr th:only-of-type {\n",
       "        vertical-align: middle;\n",
       "    }\n",
       "\n",
       "    .dataframe tbody tr th {\n",
       "        vertical-align: top;\n",
       "    }\n",
       "\n",
       "    .dataframe thead th {\n",
       "        text-align: right;\n",
       "    }\n",
       "</style>\n",
       "<table border=\"1\" class=\"dataframe\">\n",
       "  <thead>\n",
       "    <tr style=\"text-align: right;\">\n",
       "      <th></th>\n",
       "      <th>uid</th>\n",
       "      <th>country</th>\n",
       "      <th>joined_at</th>\n",
       "      <th>paid_at</th>\n",
       "      <th>revenue</th>\n",
       "      <th>payment_id</th>\n",
       "      <th>from_page</th>\n",
       "      <th>product_type</th>\n",
       "      <th>delta_pay_days</th>\n",
       "    </tr>\n",
       "  </thead>\n",
       "  <tbody>\n",
       "    <tr>\n",
       "      <th>303</th>\n",
       "      <td>892355163</td>\n",
       "      <td>United States of America</td>\n",
       "      <td>2017-10-15 18:45:00</td>\n",
       "      <td>2017-10-16 09:52:00</td>\n",
       "      <td>30264.0</td>\n",
       "      <td>68</td>\n",
       "      <td>super_popup</td>\n",
       "      <td>other_type</td>\n",
       "      <td>-1 days +08:53:00</td>\n",
       "    </tr>\n",
       "  </tbody>\n",
       "</table>\n",
       "</div>"
      ],
      "text/plain": [
       "           uid                   country           joined_at  \\\n",
       "303  892355163  United States of America 2017-10-15 18:45:00   \n",
       "\n",
       "                paid_at  revenue  payment_id    from_page product_type  \\\n",
       "303 2017-10-16 09:52:00  30264.0          68  super_popup   other_type   \n",
       "\n",
       "       delta_pay_days  \n",
       "303 -1 days +08:53:00  "
      ]
     },
     "execution_count": 325,
     "metadata": {},
     "output_type": "execute_result"
    }
   ],
   "source": [
    "# Считаю, что эту транзакцию надо учесть в основной таблице.\n",
    "transactions_control_1.query('uid == 892355163')"
   ]
  },
  {
   "cell_type": "code",
   "execution_count": 326,
   "metadata": {},
   "outputs": [],
   "source": [
    "users_control_1 = users_control_1.drop(index=[510])"
   ]
  },
  {
   "cell_type": "code",
   "execution_count": 327,
   "metadata": {},
   "outputs": [],
   "source": [
    "users_control_1.loc[(users_control_1.uid == 892355163), 'total_revenue'] = 30264"
   ]
  },
  {
   "cell_type": "code",
   "execution_count": 328,
   "metadata": {},
   "outputs": [
    {
     "data": {
      "text/plain": [
       "0.0"
      ]
     },
     "execution_count": 328,
     "metadata": {},
     "output_type": "execute_result"
    }
   ],
   "source": [
    "users_control_1.total_revenue.sum() - transactions_control_1.revenue.sum()"
   ]
  },
  {
   "cell_type": "code",
   "execution_count": 329,
   "metadata": {},
   "outputs": [
    {
     "data": {
      "text/plain": [
       "array([147,  67,  19, 146,  68,   0])"
      ]
     },
     "execution_count": 329,
     "metadata": {},
     "output_type": "execute_result"
    }
   ],
   "source": [
    "# Рассмотрим колонку payment_id\n",
    "transactions_test.payment_id.unique()"
   ]
  },
  {
   "cell_type": "code",
   "execution_count": 330,
   "metadata": {},
   "outputs": [
    {
     "data": {
      "text/html": [
       "<div>\n",
       "<style scoped>\n",
       "    .dataframe tbody tr th:only-of-type {\n",
       "        vertical-align: middle;\n",
       "    }\n",
       "\n",
       "    .dataframe tbody tr th {\n",
       "        vertical-align: top;\n",
       "    }\n",
       "\n",
       "    .dataframe thead th {\n",
       "        text-align: right;\n",
       "    }\n",
       "</style>\n",
       "<table border=\"1\" class=\"dataframe\">\n",
       "  <thead>\n",
       "    <tr style=\"text-align: right;\">\n",
       "      <th></th>\n",
       "      <th>uid</th>\n",
       "      <th>country</th>\n",
       "      <th>joined_at</th>\n",
       "      <th>paid_at</th>\n",
       "      <th>revenue</th>\n",
       "      <th>payment_id</th>\n",
       "      <th>from_page</th>\n",
       "      <th>product_type</th>\n",
       "      <th>delta_pay_days</th>\n",
       "    </tr>\n",
       "  </thead>\n",
       "  <tbody>\n",
       "    <tr>\n",
       "      <th>220</th>\n",
       "      <td>891725043</td>\n",
       "      <td>United Arab Emirates</td>\n",
       "      <td>2017-10-29 00:49:00</td>\n",
       "      <td>2017-10-29 07:48:00</td>\n",
       "      <td>9217.0</td>\n",
       "      <td>0</td>\n",
       "      <td>none</td>\n",
       "      <td>premium_no_trial</td>\n",
       "      <td>-1 days +17:01:00</td>\n",
       "    </tr>\n",
       "  </tbody>\n",
       "</table>\n",
       "</div>"
      ],
      "text/plain": [
       "           uid               country           joined_at             paid_at  \\\n",
       "220  891725043  United Arab Emirates 2017-10-29 00:49:00 2017-10-29 07:48:00   \n",
       "\n",
       "     revenue  payment_id from_page      product_type    delta_pay_days  \n",
       "220   9217.0           0      none  premium_no_trial -1 days +17:01:00  "
      ]
     },
     "execution_count": 330,
     "metadata": {},
     "output_type": "execute_result"
    }
   ],
   "source": [
    "# Вызывает подозрение идентификатор платежа со значением 0. Рассмотрим подробнее\n",
    "transactions_test.query('payment_id == 0')"
   ]
  },
  {
   "cell_type": "code",
   "execution_count": 331,
   "metadata": {},
   "outputs": [
    {
     "data": {
      "text/html": [
       "<div>\n",
       "<style scoped>\n",
       "    .dataframe tbody tr th:only-of-type {\n",
       "        vertical-align: middle;\n",
       "    }\n",
       "\n",
       "    .dataframe tbody tr th {\n",
       "        vertical-align: top;\n",
       "    }\n",
       "\n",
       "    .dataframe thead th {\n",
       "        text-align: right;\n",
       "    }\n",
       "</style>\n",
       "<table border=\"1\" class=\"dataframe\">\n",
       "  <thead>\n",
       "    <tr style=\"text-align: right;\">\n",
       "      <th></th>\n",
       "      <th>uid</th>\n",
       "      <th>country</th>\n",
       "      <th>joined_at</th>\n",
       "      <th>paid_at</th>\n",
       "      <th>revenue</th>\n",
       "      <th>payment_id</th>\n",
       "      <th>from_page</th>\n",
       "      <th>product_type</th>\n",
       "      <th>delta_pay_days</th>\n",
       "    </tr>\n",
       "  </thead>\n",
       "  <tbody>\n",
       "    <tr>\n",
       "      <th>152</th>\n",
       "      <td>891725043</td>\n",
       "      <td>United Arab Emirates</td>\n",
       "      <td>2017-10-29 00:49:00</td>\n",
       "      <td>2017-10-29 07:48:00</td>\n",
       "      <td>9217.0</td>\n",
       "      <td>147</td>\n",
       "      <td>none</td>\n",
       "      <td>premium_no_trial</td>\n",
       "      <td>-1 days +17:01:00</td>\n",
       "    </tr>\n",
       "    <tr>\n",
       "      <th>220</th>\n",
       "      <td>891725043</td>\n",
       "      <td>United Arab Emirates</td>\n",
       "      <td>2017-10-29 00:49:00</td>\n",
       "      <td>2017-10-29 07:48:00</td>\n",
       "      <td>9217.0</td>\n",
       "      <td>0</td>\n",
       "      <td>none</td>\n",
       "      <td>premium_no_trial</td>\n",
       "      <td>-1 days +17:01:00</td>\n",
       "    </tr>\n",
       "  </tbody>\n",
       "</table>\n",
       "</div>"
      ],
      "text/plain": [
       "           uid               country           joined_at             paid_at  \\\n",
       "152  891725043  United Arab Emirates 2017-10-29 00:49:00 2017-10-29 07:48:00   \n",
       "220  891725043  United Arab Emirates 2017-10-29 00:49:00 2017-10-29 07:48:00   \n",
       "\n",
       "     revenue  payment_id from_page      product_type    delta_pay_days  \n",
       "152   9217.0         147      none  premium_no_trial -1 days +17:01:00  \n",
       "220   9217.0           0      none  premium_no_trial -1 days +17:01:00  "
      ]
     },
     "execution_count": 331,
     "metadata": {},
     "output_type": "execute_result"
    }
   ],
   "source": [
    "# Моя догадка подтвердилась, строка продублировалась, очевидно, что платеж был один\n",
    "# Я принимаю решение об удалении строки\n",
    "transactions_test.query('uid == 891725043')"
   ]
  },
  {
   "cell_type": "code",
   "execution_count": 332,
   "metadata": {},
   "outputs": [],
   "source": [
    "transactions_test = transactions_test.drop(index=[220])"
   ]
  },
  {
   "cell_type": "code",
   "execution_count": 333,
   "metadata": {},
   "outputs": [],
   "source": [
    "# Также изменим значение в таблице users\n",
    "users_test.loc[(users_test.uid == 891725043), 'total_revenue'] = 9217"
   ]
  },
  {
   "cell_type": "code",
   "execution_count": 334,
   "metadata": {},
   "outputs": [
    {
     "data": {
      "text/html": [
       "<div>\n",
       "<style scoped>\n",
       "    .dataframe tbody tr th:only-of-type {\n",
       "        vertical-align: middle;\n",
       "    }\n",
       "\n",
       "    .dataframe tbody tr th {\n",
       "        vertical-align: top;\n",
       "    }\n",
       "\n",
       "    .dataframe thead th {\n",
       "        text-align: right;\n",
       "    }\n",
       "</style>\n",
       "<table border=\"1\" class=\"dataframe\">\n",
       "  <thead>\n",
       "    <tr style=\"text-align: right;\">\n",
       "      <th></th>\n",
       "      <th>uid</th>\n",
       "      <th>country</th>\n",
       "      <th>joined_at</th>\n",
       "      <th>paid_at</th>\n",
       "      <th>revenue</th>\n",
       "      <th>payment_id</th>\n",
       "      <th>from_page</th>\n",
       "      <th>product_type</th>\n",
       "      <th>delta_pay_days</th>\n",
       "    </tr>\n",
       "  </thead>\n",
       "  <tbody>\n",
       "    <tr>\n",
       "      <th>138</th>\n",
       "      <td>891216033</td>\n",
       "      <td>United States of America</td>\n",
       "      <td>2017-07-11 12:33:00</td>\n",
       "      <td>2017-07-11 12:47:00</td>\n",
       "      <td>6292.0</td>\n",
       "      <td>0</td>\n",
       "      <td>autoreply_message</td>\n",
       "      <td>premium_no_trial</td>\n",
       "      <td>-1 days +23:46:00</td>\n",
       "    </tr>\n",
       "    <tr>\n",
       "      <th>347</th>\n",
       "      <td>892101909</td>\n",
       "      <td>France</td>\n",
       "      <td>2017-10-21 03:28:00</td>\n",
       "      <td>2017-10-21 03:39:00</td>\n",
       "      <td>6422.0</td>\n",
       "      <td>0</td>\n",
       "      <td>none</td>\n",
       "      <td>premium_no_trial</td>\n",
       "      <td>-1 days +23:49:00</td>\n",
       "    </tr>\n",
       "  </tbody>\n",
       "</table>\n",
       "</div>"
      ],
      "text/plain": [
       "           uid                   country           joined_at  \\\n",
       "138  891216033  United States of America 2017-07-11 12:33:00   \n",
       "347  892101909                    France 2017-10-21 03:28:00   \n",
       "\n",
       "                paid_at  revenue  payment_id          from_page  \\\n",
       "138 2017-07-11 12:47:00   6292.0           0  autoreply_message   \n",
       "347 2017-10-21 03:39:00   6422.0           0               none   \n",
       "\n",
       "         product_type    delta_pay_days  \n",
       "138  premium_no_trial -1 days +23:46:00  \n",
       "347  premium_no_trial -1 days +23:49:00  "
      ]
     },
     "execution_count": 334,
     "metadata": {},
     "output_type": "execute_result"
    }
   ],
   "source": [
    "# Посмотрю есть ли что-то подобное в других таблицах\n",
    "transactions_control_1.query('payment_id == 0')"
   ]
  },
  {
   "cell_type": "code",
   "execution_count": 335,
   "metadata": {},
   "outputs": [
    {
     "data": {
      "text/html": [
       "<div>\n",
       "<style scoped>\n",
       "    .dataframe tbody tr th:only-of-type {\n",
       "        vertical-align: middle;\n",
       "    }\n",
       "\n",
       "    .dataframe tbody tr th {\n",
       "        vertical-align: top;\n",
       "    }\n",
       "\n",
       "    .dataframe thead th {\n",
       "        text-align: right;\n",
       "    }\n",
       "</style>\n",
       "<table border=\"1\" class=\"dataframe\">\n",
       "  <thead>\n",
       "    <tr style=\"text-align: right;\">\n",
       "      <th></th>\n",
       "      <th>uid</th>\n",
       "      <th>country</th>\n",
       "      <th>joined_at</th>\n",
       "      <th>paid_at</th>\n",
       "      <th>revenue</th>\n",
       "      <th>payment_id</th>\n",
       "      <th>from_page</th>\n",
       "      <th>product_type</th>\n",
       "      <th>delta_pay_days</th>\n",
       "    </tr>\n",
       "  </thead>\n",
       "  <tbody>\n",
       "    <tr>\n",
       "      <th>138</th>\n",
       "      <td>891216033</td>\n",
       "      <td>United States of America</td>\n",
       "      <td>2017-07-11 12:33:00</td>\n",
       "      <td>2017-07-11 12:47:00</td>\n",
       "      <td>6292.0</td>\n",
       "      <td>0</td>\n",
       "      <td>autoreply_message</td>\n",
       "      <td>premium_no_trial</td>\n",
       "      <td>-1 days +23:46:00</td>\n",
       "    </tr>\n",
       "    <tr>\n",
       "      <th>269</th>\n",
       "      <td>891216033</td>\n",
       "      <td>United States of America</td>\n",
       "      <td>2017-07-11 12:33:00</td>\n",
       "      <td>2017-07-11 12:47:00</td>\n",
       "      <td>6292.0</td>\n",
       "      <td>147</td>\n",
       "      <td>autoreply_message</td>\n",
       "      <td>premium_no_trial</td>\n",
       "      <td>-1 days +23:46:00</td>\n",
       "    </tr>\n",
       "  </tbody>\n",
       "</table>\n",
       "</div>"
      ],
      "text/plain": [
       "           uid                   country           joined_at  \\\n",
       "138  891216033  United States of America 2017-07-11 12:33:00   \n",
       "269  891216033  United States of America 2017-07-11 12:33:00   \n",
       "\n",
       "                paid_at  revenue  payment_id          from_page  \\\n",
       "138 2017-07-11 12:47:00   6292.0           0  autoreply_message   \n",
       "269 2017-07-11 12:47:00   6292.0         147  autoreply_message   \n",
       "\n",
       "         product_type    delta_pay_days  \n",
       "138  premium_no_trial -1 days +23:46:00  \n",
       "269  premium_no_trial -1 days +23:46:00  "
      ]
     },
     "execution_count": 335,
     "metadata": {},
     "output_type": "execute_result"
    }
   ],
   "source": [
    "# Удаляю лишние строки и правлю таблицу users \n",
    "transactions_control_1.query('uid == 891216033')"
   ]
  },
  {
   "cell_type": "code",
   "execution_count": 336,
   "metadata": {},
   "outputs": [],
   "source": [
    "transactions_control_1 = transactions_control_1.drop(index=[138])\n",
    "users_control_1.loc[(users_control_1.uid == 891216033), 'total_revenue'] = 6292"
   ]
  },
  {
   "cell_type": "code",
   "execution_count": 337,
   "metadata": {},
   "outputs": [
    {
     "data": {
      "text/html": [
       "<div>\n",
       "<style scoped>\n",
       "    .dataframe tbody tr th:only-of-type {\n",
       "        vertical-align: middle;\n",
       "    }\n",
       "\n",
       "    .dataframe tbody tr th {\n",
       "        vertical-align: top;\n",
       "    }\n",
       "\n",
       "    .dataframe thead th {\n",
       "        text-align: right;\n",
       "    }\n",
       "</style>\n",
       "<table border=\"1\" class=\"dataframe\">\n",
       "  <thead>\n",
       "    <tr style=\"text-align: right;\">\n",
       "      <th></th>\n",
       "      <th>uid</th>\n",
       "      <th>country</th>\n",
       "      <th>joined_at</th>\n",
       "      <th>paid_at</th>\n",
       "      <th>revenue</th>\n",
       "      <th>payment_id</th>\n",
       "      <th>from_page</th>\n",
       "      <th>product_type</th>\n",
       "      <th>delta_pay_days</th>\n",
       "    </tr>\n",
       "  </thead>\n",
       "  <tbody>\n",
       "    <tr>\n",
       "      <th>156</th>\n",
       "      <td>892101909</td>\n",
       "      <td>France</td>\n",
       "      <td>2017-10-21 03:28:00</td>\n",
       "      <td>2017-10-23 22:32:00</td>\n",
       "      <td>741.0</td>\n",
       "      <td>146</td>\n",
       "      <td>empty_likes</td>\n",
       "      <td>coins</td>\n",
       "      <td>-3 days +04:56:00</td>\n",
       "    </tr>\n",
       "    <tr>\n",
       "      <th>189</th>\n",
       "      <td>892101909</td>\n",
       "      <td>France</td>\n",
       "      <td>2017-10-21 03:28:00</td>\n",
       "      <td>2017-10-23 22:35:00</td>\n",
       "      <td>923.0</td>\n",
       "      <td>19</td>\n",
       "      <td>none</td>\n",
       "      <td>coins</td>\n",
       "      <td>-3 days +04:53:00</td>\n",
       "    </tr>\n",
       "    <tr>\n",
       "      <th>210</th>\n",
       "      <td>892101909</td>\n",
       "      <td>France</td>\n",
       "      <td>2017-10-21 03:28:00</td>\n",
       "      <td>2017-10-21 03:39:00</td>\n",
       "      <td>6422.0</td>\n",
       "      <td>147</td>\n",
       "      <td>none</td>\n",
       "      <td>premium_no_trial</td>\n",
       "      <td>-1 days +23:49:00</td>\n",
       "    </tr>\n",
       "    <tr>\n",
       "      <th>347</th>\n",
       "      <td>892101909</td>\n",
       "      <td>France</td>\n",
       "      <td>2017-10-21 03:28:00</td>\n",
       "      <td>2017-10-21 03:39:00</td>\n",
       "      <td>6422.0</td>\n",
       "      <td>0</td>\n",
       "      <td>none</td>\n",
       "      <td>premium_no_trial</td>\n",
       "      <td>-1 days +23:49:00</td>\n",
       "    </tr>\n",
       "  </tbody>\n",
       "</table>\n",
       "</div>"
      ],
      "text/plain": [
       "           uid country           joined_at             paid_at  revenue  \\\n",
       "156  892101909  France 2017-10-21 03:28:00 2017-10-23 22:32:00    741.0   \n",
       "189  892101909  France 2017-10-21 03:28:00 2017-10-23 22:35:00    923.0   \n",
       "210  892101909  France 2017-10-21 03:28:00 2017-10-21 03:39:00   6422.0   \n",
       "347  892101909  France 2017-10-21 03:28:00 2017-10-21 03:39:00   6422.0   \n",
       "\n",
       "     payment_id    from_page      product_type    delta_pay_days  \n",
       "156         146  empty_likes             coins -3 days +04:56:00  \n",
       "189          19         none             coins -3 days +04:53:00  \n",
       "210         147         none  premium_no_trial -1 days +23:49:00  \n",
       "347           0         none  premium_no_trial -1 days +23:49:00  "
      ]
     },
     "execution_count": 337,
     "metadata": {},
     "output_type": "execute_result"
    }
   ],
   "source": [
    "transactions_control_1.query('uid == 892101909')"
   ]
  },
  {
   "cell_type": "code",
   "execution_count": 338,
   "metadata": {},
   "outputs": [],
   "source": [
    "transactions_control_1 = transactions_control_1.drop(index=[347])\n",
    "users_control_1.loc[(users_control_1.uid == 892101909), 'total_revenue'] = 6422"
   ]
  },
  {
   "cell_type": "code",
   "execution_count": 339,
   "metadata": {},
   "outputs": [
    {
     "data": {
      "text/html": [
       "<div>\n",
       "<style scoped>\n",
       "    .dataframe tbody tr th:only-of-type {\n",
       "        vertical-align: middle;\n",
       "    }\n",
       "\n",
       "    .dataframe tbody tr th {\n",
       "        vertical-align: top;\n",
       "    }\n",
       "\n",
       "    .dataframe thead th {\n",
       "        text-align: right;\n",
       "    }\n",
       "</style>\n",
       "<table border=\"1\" class=\"dataframe\">\n",
       "  <thead>\n",
       "    <tr style=\"text-align: right;\">\n",
       "      <th></th>\n",
       "      <th>uid</th>\n",
       "      <th>country</th>\n",
       "      <th>joined_at</th>\n",
       "      <th>paid_at</th>\n",
       "      <th>revenue</th>\n",
       "      <th>payment_id</th>\n",
       "      <th>from_page</th>\n",
       "      <th>product_type</th>\n",
       "      <th>delta_pay_days</th>\n",
       "    </tr>\n",
       "  </thead>\n",
       "  <tbody>\n",
       "    <tr>\n",
       "      <th>90</th>\n",
       "      <td>891219540</td>\n",
       "      <td>Australia</td>\n",
       "      <td>2017-07-11 10:50:00</td>\n",
       "      <td>2017-07-11 10:58:00</td>\n",
       "      <td>4719.0</td>\n",
       "      <td>0</td>\n",
       "      <td>none</td>\n",
       "      <td>premium_no_trial</td>\n",
       "      <td>-1 days +23:52:00</td>\n",
       "    </tr>\n",
       "  </tbody>\n",
       "</table>\n",
       "</div>"
      ],
      "text/plain": [
       "          uid    country           joined_at             paid_at  revenue  \\\n",
       "90  891219540  Australia 2017-07-11 10:50:00 2017-07-11 10:58:00   4719.0   \n",
       "\n",
       "    payment_id from_page      product_type    delta_pay_days  \n",
       "90           0      none  premium_no_trial -1 days +23:52:00  "
      ]
     },
     "execution_count": 339,
     "metadata": {},
     "output_type": "execute_result"
    }
   ],
   "source": [
    "# Смотрим дубли в control_2\n",
    "transactions_control_2.query('payment_id == 0')"
   ]
  },
  {
   "cell_type": "code",
   "execution_count": 340,
   "metadata": {},
   "outputs": [
    {
     "data": {
      "text/html": [
       "<div>\n",
       "<style scoped>\n",
       "    .dataframe tbody tr th:only-of-type {\n",
       "        vertical-align: middle;\n",
       "    }\n",
       "\n",
       "    .dataframe tbody tr th {\n",
       "        vertical-align: top;\n",
       "    }\n",
       "\n",
       "    .dataframe thead th {\n",
       "        text-align: right;\n",
       "    }\n",
       "</style>\n",
       "<table border=\"1\" class=\"dataframe\">\n",
       "  <thead>\n",
       "    <tr style=\"text-align: right;\">\n",
       "      <th></th>\n",
       "      <th>uid</th>\n",
       "      <th>country</th>\n",
       "      <th>joined_at</th>\n",
       "      <th>paid_at</th>\n",
       "      <th>revenue</th>\n",
       "      <th>payment_id</th>\n",
       "      <th>from_page</th>\n",
       "      <th>product_type</th>\n",
       "      <th>delta_pay_days</th>\n",
       "    </tr>\n",
       "  </thead>\n",
       "  <tbody>\n",
       "    <tr>\n",
       "      <th>90</th>\n",
       "      <td>891219540</td>\n",
       "      <td>Australia</td>\n",
       "      <td>2017-07-11 10:50:00</td>\n",
       "      <td>2017-07-11 10:58:00</td>\n",
       "      <td>4719.0</td>\n",
       "      <td>0</td>\n",
       "      <td>none</td>\n",
       "      <td>premium_no_trial</td>\n",
       "      <td>-1 days +23:52:00</td>\n",
       "    </tr>\n",
       "    <tr>\n",
       "      <th>144</th>\n",
       "      <td>891219540</td>\n",
       "      <td>Australia</td>\n",
       "      <td>2017-07-11 10:50:00</td>\n",
       "      <td>2017-07-11 10:58:00</td>\n",
       "      <td>4719.0</td>\n",
       "      <td>147</td>\n",
       "      <td>none</td>\n",
       "      <td>premium_no_trial</td>\n",
       "      <td>-1 days +23:52:00</td>\n",
       "    </tr>\n",
       "  </tbody>\n",
       "</table>\n",
       "</div>"
      ],
      "text/plain": [
       "           uid    country           joined_at             paid_at  revenue  \\\n",
       "90   891219540  Australia 2017-07-11 10:50:00 2017-07-11 10:58:00   4719.0   \n",
       "144  891219540  Australia 2017-07-11 10:50:00 2017-07-11 10:58:00   4719.0   \n",
       "\n",
       "     payment_id from_page      product_type    delta_pay_days  \n",
       "90            0      none  premium_no_trial -1 days +23:52:00  \n",
       "144         147      none  premium_no_trial -1 days +23:52:00  "
      ]
     },
     "execution_count": 340,
     "metadata": {},
     "output_type": "execute_result"
    }
   ],
   "source": [
    "transactions_control_2.query('uid == 891219540')"
   ]
  },
  {
   "cell_type": "code",
   "execution_count": 341,
   "metadata": {},
   "outputs": [],
   "source": [
    "transactions_control_2 = transactions_control_2.drop(index=[90])\n",
    "users_control_2.loc[(users_control_2.uid == 891219540), 'total_revenue'] = 4719"
   ]
  },
  {
   "cell_type": "code",
   "execution_count": 342,
   "metadata": {},
   "outputs": [],
   "source": [
    "# Теперь посмотрим какое количество пользователь в группах использовали премиум подписку и какие имеет подписку\n",
    "# в настоящее время.\n",
    "def premium_subscription(base, column):\n",
    "    df_premium = pd.DataFrame(\n",
    "        [\n",
    "            [base.query(\"was_premium != 0\").shape[0]],\n",
    "            [base.query(\"is_premium != 0\").shape[0]],\n",
    "            [\n",
    "                round(\n",
    "                    base.query(\"is_premium != 0\").shape[0] / base.query(\"was_premium != 0\")\n",
    "                    .shape[0] * 100,\n",
    "                    1,\n",
    "                )\n",
    "            ],\n",
    "        ],\n",
    "        index=[\"Was_premium\", \"Is_premium\", \"Conversion rate\"],\n",
    "        columns=[column],\n",
    "    )\n",
    "    return df_premium"
   ]
  },
  {
   "cell_type": "code",
   "execution_count": 343,
   "metadata": {},
   "outputs": [
    {
     "data": {
      "text/html": [
       "<div>\n",
       "<style scoped>\n",
       "    .dataframe tbody tr th:only-of-type {\n",
       "        vertical-align: middle;\n",
       "    }\n",
       "\n",
       "    .dataframe tbody tr th {\n",
       "        vertical-align: top;\n",
       "    }\n",
       "\n",
       "    .dataframe thead th {\n",
       "        text-align: right;\n",
       "    }\n",
       "</style>\n",
       "<table border=\"1\" class=\"dataframe\">\n",
       "  <thead>\n",
       "    <tr style=\"text-align: right;\">\n",
       "      <th></th>\n",
       "      <th>test</th>\n",
       "      <th>control_1</th>\n",
       "      <th>control_2</th>\n",
       "    </tr>\n",
       "  </thead>\n",
       "  <tbody>\n",
       "    <tr>\n",
       "      <th>Was_premium</th>\n",
       "      <td>408.0</td>\n",
       "      <td>435.0</td>\n",
       "      <td>411.0</td>\n",
       "    </tr>\n",
       "    <tr>\n",
       "      <th>Is_premium</th>\n",
       "      <td>157.0</td>\n",
       "      <td>191.0</td>\n",
       "      <td>191.0</td>\n",
       "    </tr>\n",
       "    <tr>\n",
       "      <th>Conversion rate</th>\n",
       "      <td>38.5</td>\n",
       "      <td>43.9</td>\n",
       "      <td>46.5</td>\n",
       "    </tr>\n",
       "  </tbody>\n",
       "</table>\n",
       "</div>"
      ],
      "text/plain": [
       "                  test  control_1  control_2\n",
       "Was_premium      408.0      435.0      411.0\n",
       "Is_premium       157.0      191.0      191.0\n",
       "Conversion rate   38.5       43.9       46.5"
      ]
     },
     "execution_count": 343,
     "metadata": {},
     "output_type": "execute_result"
    }
   ],
   "source": [
    "# Катртина печальная, в тестовой группе самый маленький CR, нужно выяснить повлияло ли повышение цены \n",
    "# на отток подписчиков.  \n",
    "users_test_premium = premium_subscription(users_test, 'test')\n",
    "users_control_1_premium = premium_subscription(users_control_1, 'control_1')\n",
    "users_control_2_premium = premium_subscription(users_control_2, 'control_2')\n",
    "premium_all_base = users_test_premium\n",
    "premium_all_base['control_1'] = users_control_1_premium['control_1']\n",
    "premium_all_base['control_2'] = users_control_2_premium['control_2']\n",
    "premium_all_base"
   ]
  },
  {
   "cell_type": "markdown",
   "metadata": {},
   "source": [
    "## _Выводы_"
   ]
  },
  {
   "cell_type": "markdown",
   "metadata": {},
   "source": [
    "- В таблице control_1 обнаруженны пустые строки, которые я удалил\n",
    "- Все типы данных привел к единообразию\n",
    "- Большинство покупателей услуг сервиса жители США\n",
    "- Выявленна ошибка в датах регистрации пользователей так, как на проведение тестов это не повлияет, то \n",
    "  я принял решение не удалять/исправлять данные\n",
    "- Выявлен пользователь, который существенно отличается по датам регистрации, для единообразия данных, я принял решение\n",
    "  удалить пользователя\n",
    "- При анализе данных найдены транзакции, которых нет в основных таблицах users, я добавил их в основные таблицы\n",
    "- Были обнаруженны дубли в транзакциях, которые я удалил и поправил данные в основных таблицах users"
   ]
  },
  {
   "cell_type": "markdown",
   "metadata": {},
   "source": [
    "# _Проведение А/А теста_"
   ]
  },
  {
   "cell_type": "code",
   "execution_count": 344,
   "metadata": {},
   "outputs": [],
   "source": [
    "# Для удобства соединим датасеты с данными о пользователях с датасетами о транзакциях\n",
    "test_group = users_test.merge(transactions_test, on='uid', how='left')\n",
    "control_group_1 = users_control_1.merge(transactions_control_1, on='uid', how='left')\n",
    "control_group_2 = users_control_2.merge(transactions_control_2, on='uid', how='left')"
   ]
  },
  {
   "cell_type": "code",
   "execution_count": 345,
   "metadata": {},
   "outputs": [
    {
     "data": {
      "application/vnd.jupyter.widget-view+json": {
       "model_id": "892c5a422f6c4d0a96720ae2fb22f3d7",
       "version_major": 2,
       "version_minor": 0
      },
      "text/plain": [
       "HBox(children=(FloatProgress(value=0.0, max=1000.0), HTML(value='')))"
      ]
     },
     "metadata": {},
     "output_type": "display_data"
    },
    {
     "name": "stdout",
     "output_type": "stream",
     "text": [
      "\n"
     ]
    },
    {
     "data": {
      "image/png": "[encoded data removed]",
      "text/plain": [
       "<Figure size 432x288 with 1 Axes>"
      ]
     },
     "metadata": {},
     "output_type": "display_data"
    },
    {
     "data": {
      "text/plain": [
       "0.026"
      ]
     },
     "execution_count": 345,
     "metadata": {},
     "output_type": "execute_result"
    }
   ],
   "source": [
    "# Сначала проведем А/А тест по метрике ARPU\n",
    "control_revenue_1 = control_group_1.groupby('uid', as_index=False).agg({'revenue': 'sum'})\n",
    "control_revenue_2 = control_group_2.groupby('uid', as_index=False).agg({'revenue': 'sum'})\n",
    "n = 100000\n",
    "simulations = 1000\n",
    "n_s = 1000\n",
    "result = []\n",
    "\n",
    "# Запуск симуляций A/A теста\n",
    "for i in tqdm(range(simulations)):\n",
    "    s1 = control_revenue_1.revenue.sample(n_s, replace=False).values\n",
    "    s2 = control_revenue_2.revenue.sample(n_s, replace=False).values\n",
    "    result.append(stats.ttest_ind(s1, s2, equal_var=False)[1]) \n",
    "    \n",
    "    \n",
    "plt.hist(result, bins=50)\n",
    "plt.style.use('ggplot')\n",
    "plt.xlabel('pvalues')\n",
    "plt.ylabel('frequency')\n",
    "plt.title(\"Histogram of ttest A/A simulations \")\n",
    "plt.show()\n",
    "\n",
    "# Проверяем, что количество ложноположительных случаев не превышает альфа\n",
    "sum(np.array(result) < 0.05) / simulations    "
   ]
  },
  {
   "cell_type": "markdown",
   "metadata": {},
   "source": [
    "Полученный результат < 0.05, значит тест прошёл успешно, группы похожи."
   ]
  },
  {
   "cell_type": "markdown",
   "metadata": {},
   "source": [
    "Теперь посмотрим на CR. В этом случае, воспользуемся критерием хи-квадрат"
   ]
  },
  {
   "cell_type": "code",
   "execution_count": 346,
   "metadata": {},
   "outputs": [
    {
     "data": {
      "application/vnd.jupyter.widget-view+json": {
       "model_id": "d1275113fb694fba92b8537c8306736f",
       "version_major": 2,
       "version_minor": 0
      },
      "text/plain": [
       "HBox(children=(FloatProgress(value=0.0, max=1000.0), HTML(value='')))"
      ]
     },
     "metadata": {},
     "output_type": "display_data"
    },
    {
     "name": "stdout",
     "output_type": "stream",
     "text": [
      "\n"
     ]
    },
    {
     "data": {
      "image/png": "[encoded data removed]",
      "text/plain": [
       "<Figure size 432x288 with 1 Axes>"
      ]
     },
     "metadata": {},
     "output_type": "display_data"
    },
    {
     "data": {
      "text/plain": [
       "0.01"
      ]
     },
     "execution_count": 346,
     "metadata": {},
     "output_type": "execute_result"
    }
   ],
   "source": [
    "# Подготовим данные\n",
    "control_group_1['premium_no_trial'] = np.where(control_group_1.product_type == 'premium_no_trial', 1, 0)\n",
    "control_group_2['premium_no_trial'] = np.where(control_group_2.product_type == 'premium_no_trial', 1, 0)\n",
    "test_group['premium_no_trial'] = np.where(test_group.product_type == 'premium_no_trial', 1, 0)\n",
    "\n",
    "\n",
    "n = 100000\n",
    "simulations = 1000\n",
    "n_s = 2000\n",
    "result = []\n",
    "\n",
    "# Запуск симуляций A/A теста\n",
    "for i in tqdm(range(simulations)):\n",
    "    s1 = control_group_1.premium_no_trial.sample(n_s, replace=False).values\n",
    "    s2 = control_group_2.premium_no_trial.sample(n_s, replace=False).values\n",
    "    ab = np.array([[s1.sum(), s1.shape[0] - s1.sum()], [s2.sum(), s2.shape[0] - s2.sum()]])  \n",
    "    result.append(stats.chi2_contingency(ab, correction=False)[1])\n",
    "    \n",
    "\n",
    "plt.hist(result, bins=50)\n",
    "plt.style.use('ggplot')\n",
    "plt.xlabel('pvalues')\n",
    "plt.ylabel('frequency')\n",
    "plt.title(\"Histogram of ttest A/A simulations \")\n",
    "plt.show()\n",
    "\n",
    "# проверим, что количество ложноположительных случаев не превышает нашу альфу\n",
    "sum(np.array(result) < 0.05) / simulations"
   ]
  },
  {
   "cell_type": "markdown",
   "metadata": {},
   "source": [
    "Тут такая же ситуация. Таким образом, можно сказать, что система сплитования отработала корректно."
   ]
  },
  {
   "cell_type": "markdown",
   "metadata": {},
   "source": [
    "## _Выводы_"
   ]
  },
  {
   "cell_type": "markdown",
   "metadata": {},
   "source": [
    "- Все тесты показали, что система сплитования отработала корректно статистически значемых различий между контрольными группами нет\n",
    "- Контрольные группы прошли А/А тест\n",
    "- Теперь можно объединить контрольные группы и провести А/B тест."
   ]
  },
  {
   "cell_type": "markdown",
   "metadata": {},
   "source": [
    "# _3 Проведение А/В теста_"
   ]
  },
  {
   "cell_type": "code",
   "execution_count": 347,
   "metadata": {},
   "outputs": [],
   "source": [
    "# Объединеним контрольные группы.\n",
    "users_control_12 = pd.concat([users_control_1, users_control_2], ignore_index=True)"
   ]
  },
  {
   "cell_type": "code",
   "execution_count": 348,
   "metadata": {},
   "outputs": [
    {
     "data": {
      "text/plain": [
       "(8603, 16)"
      ]
     },
     "execution_count": 348,
     "metadata": {},
     "output_type": "execute_result"
    }
   ],
   "source": [
    "# Посмотрим размер полученных данных \n",
    "users_control_12.shape"
   ]
  },
  {
   "cell_type": "code",
   "execution_count": 349,
   "metadata": {},
   "outputs": [
    {
     "data": {
      "text/plain": [
       "8603"
      ]
     },
     "execution_count": 349,
     "metadata": {},
     "output_type": "execute_result"
    }
   ],
   "source": [
    "# Проверим не произошла ли потеря данных, количество строк совпадает\n",
    "users_control_1.shape[0] + users_control_2.shape[0]"
   ]
  },
  {
   "cell_type": "code",
   "execution_count": 350,
   "metadata": {},
   "outputs": [
    {
     "data": {
      "text/plain": [
       "8603"
      ]
     },
     "execution_count": 350,
     "metadata": {},
     "output_type": "execute_result"
    }
   ],
   "source": [
    "# Проверим на уникальность id пользователей, они уникальны.\n",
    "users_control_12.uid.nunique()"
   ]
  },
  {
   "cell_type": "code",
   "execution_count": 351,
   "metadata": {},
   "outputs": [],
   "source": [
    "# Теперь опредилимся с метриками по которым будем проводить А/В тест\n",
    "# Предлагаю сравнить по CR, ARPPU, ARPU\n",
    "# Для начала подготовлю данные, соединю users с transactions\n",
    "transactions_control_1_new = transactions_control_1[['uid', 'revenue', 'product_type']]\n",
    "transactions_control_2_new = transactions_control_2[['uid', 'revenue', 'product_type']]\n",
    "transactions_control_12 = pd.concat([transactions_control_1_new, transactions_control_2_new], ignore_index=True)\n",
    "user_transactions_control_12 = users_control_12.merge(transactions_control_12, how='left', on='uid')"
   ]
  },
  {
   "cell_type": "code",
   "execution_count": 353,
   "metadata": {},
   "outputs": [],
   "source": [
    "# Уберу лишние колонки и заполню пропуски\n",
    "user_transactions_control_12 = user_transactions_control_12 \\\n",
    "    .drop(columns=['total_revenue', 'transactions_revenue', 'delta_revenue'])\n",
    "user_transactions_control_12 = user_transactions_control_12.fillna(0)"
   ]
  },
  {
   "cell_type": "code",
   "execution_count": 354,
   "metadata": {},
   "outputs": [
    {
     "data": {
      "text/html": [
       "<div>\n",
       "<style scoped>\n",
       "    .dataframe tbody tr th:only-of-type {\n",
       "        vertical-align: middle;\n",
       "    }\n",
       "\n",
       "    .dataframe tbody tr th {\n",
       "        vertical-align: top;\n",
       "    }\n",
       "\n",
       "    .dataframe thead th {\n",
       "        text-align: right;\n",
       "    }\n",
       "</style>\n",
       "<table border=\"1\" class=\"dataframe\">\n",
       "  <thead>\n",
       "    <tr style=\"text-align: right;\">\n",
       "      <th></th>\n",
       "      <th>uid</th>\n",
       "      <th>age</th>\n",
       "      <th>attraction_coeff</th>\n",
       "      <th>coins</th>\n",
       "      <th>country</th>\n",
       "      <th>visit_days</th>\n",
       "      <th>gender</th>\n",
       "      <th>age_filter_start</th>\n",
       "      <th>age_filter_end</th>\n",
       "      <th>views_count</th>\n",
       "      <th>was_premium</th>\n",
       "      <th>is_premium</th>\n",
       "      <th>count_days</th>\n",
       "      <th>revenue</th>\n",
       "      <th>product_type</th>\n",
       "    </tr>\n",
       "  </thead>\n",
       "  <tbody>\n",
       "    <tr>\n",
       "      <th>0</th>\n",
       "      <td>892319115</td>\n",
       "      <td>25</td>\n",
       "      <td>435</td>\n",
       "      <td>0.0</td>\n",
       "      <td>United States of America</td>\n",
       "      <td>1,2,3,4,5,6</td>\n",
       "      <td>0</td>\n",
       "      <td>22</td>\n",
       "      <td>32</td>\n",
       "      <td>982</td>\n",
       "      <td>0.0</td>\n",
       "      <td>0.0</td>\n",
       "      <td>6.0</td>\n",
       "      <td>0.0</td>\n",
       "      <td>0</td>\n",
       "    </tr>\n",
       "    <tr>\n",
       "      <th>1</th>\n",
       "      <td>891248523</td>\n",
       "      <td>29</td>\n",
       "      <td>500</td>\n",
       "      <td>0.0</td>\n",
       "      <td>United States of America</td>\n",
       "      <td>1,2</td>\n",
       "      <td>1</td>\n",
       "      <td>26</td>\n",
       "      <td>32</td>\n",
       "      <td>12</td>\n",
       "      <td>0.0</td>\n",
       "      <td>0.0</td>\n",
       "      <td>2.0</td>\n",
       "      <td>0.0</td>\n",
       "      <td>0</td>\n",
       "    </tr>\n",
       "    <tr>\n",
       "      <th>2</th>\n",
       "      <td>891670932</td>\n",
       "      <td>33</td>\n",
       "      <td>800</td>\n",
       "      <td>0.0</td>\n",
       "      <td>France</td>\n",
       "      <td>1,2,3,5,6,8,9,11,13,16</td>\n",
       "      <td>1</td>\n",
       "      <td>30</td>\n",
       "      <td>36</td>\n",
       "      <td>5</td>\n",
       "      <td>0.0</td>\n",
       "      <td>0.0</td>\n",
       "      <td>10.0</td>\n",
       "      <td>0.0</td>\n",
       "      <td>0</td>\n",
       "    </tr>\n",
       "    <tr>\n",
       "      <th>3</th>\n",
       "      <td>891060786</td>\n",
       "      <td>26</td>\n",
       "      <td>0</td>\n",
       "      <td>0.0</td>\n",
       "      <td>Argentina</td>\n",
       "      <td>1,2,3,4,5</td>\n",
       "      <td>1</td>\n",
       "      <td>23</td>\n",
       "      <td>29</td>\n",
       "      <td>0</td>\n",
       "      <td>0.0</td>\n",
       "      <td>0.0</td>\n",
       "      <td>5.0</td>\n",
       "      <td>0.0</td>\n",
       "      <td>0</td>\n",
       "    </tr>\n",
       "    <tr>\n",
       "      <th>4</th>\n",
       "      <td>892006554</td>\n",
       "      <td>35</td>\n",
       "      <td>294</td>\n",
       "      <td>0.0</td>\n",
       "      <td>United States of America</td>\n",
       "      <td>1,2,3,5,6,7,8,9,10,12,15,16,17,19</td>\n",
       "      <td>1</td>\n",
       "      <td>30</td>\n",
       "      <td>40</td>\n",
       "      <td>17</td>\n",
       "      <td>0.0</td>\n",
       "      <td>0.0</td>\n",
       "      <td>14.0</td>\n",
       "      <td>0.0</td>\n",
       "      <td>0</td>\n",
       "    </tr>\n",
       "  </tbody>\n",
       "</table>\n",
       "</div>"
      ],
      "text/plain": [
       "         uid  age  attraction_coeff  coins                   country  \\\n",
       "0  892319115   25               435    0.0  United States of America   \n",
       "1  891248523   29               500    0.0  United States of America   \n",
       "2  891670932   33               800    0.0                    France   \n",
       "3  891060786   26                 0    0.0                 Argentina   \n",
       "4  892006554   35               294    0.0  United States of America   \n",
       "\n",
       "                          visit_days  gender  age_filter_start  \\\n",
       "0                        1,2,3,4,5,6       0                22   \n",
       "1                                1,2       1                26   \n",
       "2             1,2,3,5,6,8,9,11,13,16       1                30   \n",
       "3                          1,2,3,4,5       1                23   \n",
       "4  1,2,3,5,6,7,8,9,10,12,15,16,17,19       1                30   \n",
       "\n",
       "   age_filter_end  views_count  was_premium  is_premium  count_days  revenue  \\\n",
       "0              32          982          0.0         0.0         6.0      0.0   \n",
       "1              32           12          0.0         0.0         2.0      0.0   \n",
       "2              36            5          0.0         0.0        10.0      0.0   \n",
       "3              29            0          0.0         0.0         5.0      0.0   \n",
       "4              40           17          0.0         0.0        14.0      0.0   \n",
       "\n",
       "  product_type  \n",
       "0            0  \n",
       "1            0  \n",
       "2            0  \n",
       "3            0  \n",
       "4            0  "
      ]
     },
     "execution_count": 354,
     "metadata": {},
     "output_type": "execute_result"
    }
   ],
   "source": [
    "user_transactions_control_12.head()"
   ]
  },
  {
   "cell_type": "code",
   "execution_count": 355,
   "metadata": {
    "scrolled": true
   },
   "outputs": [
    {
     "data": {
      "text/html": [
       "<div>\n",
       "<style scoped>\n",
       "    .dataframe tbody tr th:only-of-type {\n",
       "        vertical-align: middle;\n",
       "    }\n",
       "\n",
       "    .dataframe tbody tr th {\n",
       "        vertical-align: top;\n",
       "    }\n",
       "\n",
       "    .dataframe thead th {\n",
       "        text-align: right;\n",
       "    }\n",
       "</style>\n",
       "<table border=\"1\" class=\"dataframe\">\n",
       "  <thead>\n",
       "    <tr style=\"text-align: right;\">\n",
       "      <th></th>\n",
       "      <th>uid</th>\n",
       "      <th>age</th>\n",
       "      <th>attraction_coeff</th>\n",
       "      <th>coins</th>\n",
       "      <th>country</th>\n",
       "      <th>visit_days</th>\n",
       "      <th>gender</th>\n",
       "      <th>age_filter_start</th>\n",
       "      <th>age_filter_end</th>\n",
       "      <th>views_count</th>\n",
       "      <th>was_premium</th>\n",
       "      <th>is_premium</th>\n",
       "      <th>count_days</th>\n",
       "      <th>revenue</th>\n",
       "      <th>product_type</th>\n",
       "    </tr>\n",
       "  </thead>\n",
       "  <tbody>\n",
       "    <tr>\n",
       "      <th>0</th>\n",
       "      <td>892309896</td>\n",
       "      <td>27</td>\n",
       "      <td>685</td>\n",
       "      <td>0.0</td>\n",
       "      <td>United States of America</td>\n",
       "      <td>1,2,3,4,5,6,7,8,9,10,11,12,16,17</td>\n",
       "      <td>1</td>\n",
       "      <td>24</td>\n",
       "      <td>30</td>\n",
       "      <td>89</td>\n",
       "      <td>0.0</td>\n",
       "      <td>0.0</td>\n",
       "      <td>14.0</td>\n",
       "      <td>0.0</td>\n",
       "      <td>0</td>\n",
       "    </tr>\n",
       "    <tr>\n",
       "      <th>1</th>\n",
       "      <td>892044516</td>\n",
       "      <td>27</td>\n",
       "      <td>0</td>\n",
       "      <td>0.0</td>\n",
       "      <td>Germany</td>\n",
       "      <td>0</td>\n",
       "      <td>1</td>\n",
       "      <td>24</td>\n",
       "      <td>30</td>\n",
       "      <td>0</td>\n",
       "      <td>0.0</td>\n",
       "      <td>0.0</td>\n",
       "      <td>0.0</td>\n",
       "      <td>0.0</td>\n",
       "      <td>0</td>\n",
       "    </tr>\n",
       "    <tr>\n",
       "      <th>2</th>\n",
       "      <td>892185708</td>\n",
       "      <td>45</td>\n",
       "      <td>44</td>\n",
       "      <td>0.0</td>\n",
       "      <td>Israel</td>\n",
       "      <td>1,3,4,6,7,8,10,11,12,13,14,15,16,17,18,19,20,2...</td>\n",
       "      <td>1</td>\n",
       "      <td>42</td>\n",
       "      <td>48</td>\n",
       "      <td>68</td>\n",
       "      <td>0.0</td>\n",
       "      <td>0.0</td>\n",
       "      <td>20.0</td>\n",
       "      <td>0.0</td>\n",
       "      <td>0</td>\n",
       "    </tr>\n",
       "    <tr>\n",
       "      <th>3</th>\n",
       "      <td>892130292</td>\n",
       "      <td>32</td>\n",
       "      <td>0</td>\n",
       "      <td>0.0</td>\n",
       "      <td>United States of America</td>\n",
       "      <td>1,2,3,4,5,6,7,8,9,10,11,12</td>\n",
       "      <td>1</td>\n",
       "      <td>29</td>\n",
       "      <td>35</td>\n",
       "      <td>0</td>\n",
       "      <td>0.0</td>\n",
       "      <td>0.0</td>\n",
       "      <td>12.0</td>\n",
       "      <td>0.0</td>\n",
       "      <td>0</td>\n",
       "    </tr>\n",
       "    <tr>\n",
       "      <th>4</th>\n",
       "      <td>891406035</td>\n",
       "      <td>27</td>\n",
       "      <td>1000</td>\n",
       "      <td>0.0</td>\n",
       "      <td>France</td>\n",
       "      <td>0</td>\n",
       "      <td>1</td>\n",
       "      <td>24</td>\n",
       "      <td>30</td>\n",
       "      <td>1</td>\n",
       "      <td>1.0</td>\n",
       "      <td>0.0</td>\n",
       "      <td>0.0</td>\n",
       "      <td>0.0</td>\n",
       "      <td>0</td>\n",
       "    </tr>\n",
       "  </tbody>\n",
       "</table>\n",
       "</div>"
      ],
      "text/plain": [
       "         uid  age  attraction_coeff  coins                   country  \\\n",
       "0  892309896   27               685    0.0  United States of America   \n",
       "1  892044516   27                 0    0.0                   Germany   \n",
       "2  892185708   45                44    0.0                    Israel   \n",
       "3  892130292   32                 0    0.0  United States of America   \n",
       "4  891406035   27              1000    0.0                    France   \n",
       "\n",
       "                                          visit_days  gender  \\\n",
       "0                   1,2,3,4,5,6,7,8,9,10,11,12,16,17       1   \n",
       "1                                                  0       1   \n",
       "2  1,3,4,6,7,8,10,11,12,13,14,15,16,17,18,19,20,2...       1   \n",
       "3                         1,2,3,4,5,6,7,8,9,10,11,12       1   \n",
       "4                                                  0       1   \n",
       "\n",
       "   age_filter_start  age_filter_end  views_count  was_premium  is_premium  \\\n",
       "0                24              30           89          0.0         0.0   \n",
       "1                24              30            0          0.0         0.0   \n",
       "2                42              48           68          0.0         0.0   \n",
       "3                29              35            0          0.0         0.0   \n",
       "4                24              30            1          1.0         0.0   \n",
       "\n",
       "   count_days  revenue product_type  \n",
       "0        14.0      0.0            0  \n",
       "1         0.0      0.0            0  \n",
       "2        20.0      0.0            0  \n",
       "3        12.0      0.0            0  \n",
       "4         0.0      0.0            0  "
      ]
     },
     "execution_count": 355,
     "metadata": {},
     "output_type": "execute_result"
    }
   ],
   "source": [
    "# Теперь тоже самое проделаю с тестовой группой\n",
    "transactions_test_new = transactions_test[['uid', 'revenue', 'product_type']]\n",
    "users_transactions_test = users_test.merge(transactions_test, how='left', on='uid')\n",
    "users_transactions_test = users_transactions_test \\\n",
    "    .drop(columns=['total_revenue', 'transactions_revenue', 'delta_revenue'])\n",
    "users_transactions_test = users_transactions_test.fillna(0)\n",
    "users_transactions_test.head()"
   ]
  },
  {
   "cell_type": "code",
   "execution_count": 356,
   "metadata": {},
   "outputs": [],
   "source": [
    "# Для начала посчитаем CR, ARPU, ARPPU по каждой группе.\n",
    "# Причем CR, я посчитаю в трех вариациях:\n",
    "# 1. Отношение что-либо купивших к общему числу пользователей\n",
    "# 2. Отношение количество премиум подписчиков в настоящий момент к общему числу премиум подписчиков за всё время\n",
    "# 3. Отношение премиум подписчиков в настоящее время к общему числу пользователей\n",
    "def ab_test_control(base, column):\n",
    "    ab_control_test = pd.DataFrame(\n",
    "        [\n",
    "            [\n",
    "                round(\n",
    "                    base.groupby([\"uid\"])\n",
    "                    .agg({\"revenue\": \"sum\"})\n",
    "                    .query(\"revenue != 0\")\n",
    "                    .shape[0] / base[\"uid\"].nunique() * 100,\n",
    "                    1,\n",
    "                )\n",
    "            ],\n",
    "            [\n",
    "                round(\n",
    "                    base.query(\n",
    "                        'product_type == \"premium_no_trial\" and is_premium == 1'\n",
    "                    )[\"uid\"].nunique() / base.query(\n",
    "                        'product_type == \"premium_no_trial\" and was_premium == 1'\n",
    "                    )[\"uid\"].nunique() * 100,\n",
    "                    1,\n",
    "                )\n",
    "            ],\n",
    "            [\n",
    "                round(\n",
    "                    base.query(\n",
    "                        'product_type == \"premium_no_trial\" and is_premium == 1'\n",
    "                    )[\"uid\"].nunique() / base[\"uid\"].nunique() * 100,\n",
    "                    1,\n",
    "                )\n",
    "            ],\n",
    "            [\n",
    "                round(\n",
    "                    base.query('product_type == \"premium_no_trial\"')[\"revenue\"]\n",
    "                    .sum() / base.query('product_type == \"premium_no_trial\"')[\"uid\"].nunique(),\n",
    "                    1,\n",
    "                )\n",
    "            ],\n",
    "            [round(base[\"revenue\"].sum() / base[\"uid\"].nunique(), 1)],\n",
    "        ],\n",
    "        index=[\"CR base\", \"CR premium\", \"CR premium_base\", \"ARPPU\", \"ARPU\"],\n",
    "        columns=[column],\n",
    "    )\n",
    "    return ab_control_test\n"
   ]
  },
  {
   "cell_type": "code",
   "execution_count": 357,
   "metadata": {},
   "outputs": [
    {
     "data": {
      "text/html": [
       "<div>\n",
       "<style scoped>\n",
       "    .dataframe tbody tr th:only-of-type {\n",
       "        vertical-align: middle;\n",
       "    }\n",
       "\n",
       "    .dataframe tbody tr th {\n",
       "        vertical-align: top;\n",
       "    }\n",
       "\n",
       "    .dataframe thead th {\n",
       "        text-align: right;\n",
       "    }\n",
       "</style>\n",
       "<table border=\"1\" class=\"dataframe\">\n",
       "  <thead>\n",
       "    <tr style=\"text-align: right;\">\n",
       "      <th></th>\n",
       "      <th>test</th>\n",
       "      <th>control</th>\n",
       "    </tr>\n",
       "  </thead>\n",
       "  <tbody>\n",
       "    <tr>\n",
       "      <th>CR base</th>\n",
       "      <td>3.4</td>\n",
       "      <td>4.4</td>\n",
       "    </tr>\n",
       "    <tr>\n",
       "      <th>CR premium</th>\n",
       "      <td>90.6</td>\n",
       "      <td>89.1</td>\n",
       "    </tr>\n",
       "    <tr>\n",
       "      <th>CR premium_base</th>\n",
       "      <td>1.4</td>\n",
       "      <td>2.1</td>\n",
       "    </tr>\n",
       "    <tr>\n",
       "      <th>ARPPU</th>\n",
       "      <td>12270.4</td>\n",
       "      <td>7495.7</td>\n",
       "    </tr>\n",
       "    <tr>\n",
       "      <th>ARPU</th>\n",
       "      <td>557.8</td>\n",
       "      <td>524.8</td>\n",
       "    </tr>\n",
       "  </tbody>\n",
       "</table>\n",
       "</div>"
      ],
      "text/plain": [
       "                    test  control\n",
       "CR base              3.4      4.4\n",
       "CR premium          90.6     89.1\n",
       "CR premium_base      1.4      2.1\n",
       "ARPPU            12270.4   7495.7\n",
       "ARPU               557.8    524.8"
      ]
     },
     "execution_count": 357,
     "metadata": {},
     "output_type": "execute_result"
    }
   ],
   "source": [
    "# Как видно из таблицы CR меньше в тестовой группе, а ARPPU и ARPU больше.\n",
    "# Посмотрим стастистически значимы ли эти различия.\n",
    "ab_test_test = ab_test_control(users_transactions_test, 'test')\n",
    "ab_test_control = ab_test_control(user_transactions_control_12, 'control')\n",
    "ab_test_all = ab_test_test\n",
    "ab_test_all['control'] = ab_test_control['control']\n",
    "ab_test_all"
   ]
  },
  {
   "cell_type": "code",
   "execution_count": 358,
   "metadata": {},
   "outputs": [
    {
     "data": {
      "text/plain": [
       "NormaltestResult(statistic=29340.051388074735, pvalue=0.0)"
      ]
     },
     "execution_count": 358,
     "metadata": {},
     "output_type": "execute_result"
    }
   ],
   "source": [
    "# Проведу А/Б тест по метрике ARPU\n",
    "# Сгруппирую данные для теста и проверю на нормальность распределения.\n",
    "arpu_control = user_transactions_control_12.groupby(['uid'], as_index=False).agg({'revenue': 'sum'})\n",
    "arpu_test = users_transactions_test.groupby(['uid'], as_index=False).agg({'revenue': 'sum'})\n",
    "stats.normaltest(arpu_control.revenue)"
   ]
  },
  {
   "cell_type": "code",
   "execution_count": 359,
   "metadata": {},
   "outputs": [
    {
     "data": {
      "text/plain": [
       "NormaltestResult(statistic=8331.974431114219, pvalue=0.0)"
      ]
     },
     "execution_count": 359,
     "metadata": {},
     "output_type": "execute_result"
    }
   ],
   "source": [
    "# Распределение очень далеко от нормального, поэтому проеверим на дисперсию\n",
    "stats.normaltest(arpu_test.revenue)"
   ]
  },
  {
   "cell_type": "code",
   "execution_count": 360,
   "metadata": {},
   "outputs": [
    {
     "data": {
      "text/plain": [
       "LeveneResult(statistic=0.09677387792953451, pvalue=0.7557411076889622)"
      ]
     },
     "execution_count": 360,
     "metadata": {},
     "output_type": "execute_result"
    }
   ],
   "source": [
    "# Проверка на дисперсию пройдена pvalue>0,05, значит можем провести Т-тест\n",
    "stats.levene(arpu_control.revenue, arpu_test.revenue, center='median')"
   ]
  },
  {
   "cell_type": "code",
   "execution_count": 361,
   "metadata": {},
   "outputs": [
    {
     "data": {
      "text/plain": [
       "Ttest_indResult(statistic=-0.31108500113238263, pvalue=0.755741107687186)"
      ]
     },
     "execution_count": 361,
     "metadata": {},
     "output_type": "execute_result"
    }
   ],
   "source": [
    "# За нулевую гипотезу принимаем, что различий нет pvalue > 0,05\n",
    "# За альтермативную, различия есть pvalue < 0,05\n",
    "# Тест показал, что значимых различий нет, а значит то, что в тестовой группе показала ARPU увеличение на 39 у.е. \n",
    "# не существенно статистичеки и не стоит принимать во внимание.\n",
    "stats.ttest_ind(arpu_control.revenue, arpu_test.revenue)"
   ]
  },
  {
   "cell_type": "code",
   "execution_count": 362,
   "metadata": {},
   "outputs": [
    {
     "data": {
      "text/plain": [
       "NormaltestResult(statistic=251.91716919890104, pvalue=1.980987613847268e-55)"
      ]
     },
     "execution_count": 362,
     "metadata": {},
     "output_type": "execute_result"
    }
   ],
   "source": [
    "# Теперь проведем А/Б тест по метрике ARPPU\n",
    "# Сгруппируем данные и проверим на нормальность.\n",
    "arppu_control = user_transactions_control_12.query('product_type == \"premium_no_trial\"') \\\n",
    "    .groupby(['uid'], as_index=False).agg({'revenue': 'sum'})\n",
    "arppu_test = users_transactions_test.query('product_type == \"premium_no_trial\"') \\\n",
    "    .groupby(['uid'], as_index=False).agg({'revenue': 'sum'})\n",
    "stats.normaltest(arppu_control.revenue)"
   ]
  },
  {
   "cell_type": "code",
   "execution_count": 363,
   "metadata": {},
   "outputs": [
    {
     "data": {
      "text/plain": [
       "NormaltestResult(statistic=102.14325118370515, pvalue=6.605030442754164e-23)"
      ]
     },
     "execution_count": 363,
     "metadata": {},
     "output_type": "execute_result"
    }
   ],
   "source": [
    "# Данные распределены не нормально, возможно логорифм улучшит ситуацию\n",
    "stats.normaltest(arppu_test.revenue)"
   ]
  },
  {
   "cell_type": "code",
   "execution_count": 364,
   "metadata": {},
   "outputs": [
    {
     "data": {
      "text/plain": [
       "NormaltestResult(statistic=119.54868161024369, pvalue=1.0973208441891614e-26)"
      ]
     },
     "execution_count": 364,
     "metadata": {},
     "output_type": "execute_result"
    }
   ],
   "source": [
    "# Логорифм приблизил к нормальному распределению, но не недостаточно всё равно pvalue < 0,05\n",
    "sd = np.log(arppu_control.revenue)\n",
    "stats.normaltest(sd)"
   ]
  },
  {
   "cell_type": "code",
   "execution_count": 365,
   "metadata": {},
   "outputs": [
    {
     "data": {
      "text/plain": [
       "NormaltestResult(statistic=39.66424973885134, pvalue=2.4379096407680574e-09)"
      ]
     },
     "execution_count": 365,
     "metadata": {},
     "output_type": "execute_result"
    }
   ],
   "source": [
    "sd1 = np.log(arppu_test.revenue)\n",
    "stats.normaltest(sd1)"
   ]
  },
  {
   "cell_type": "code",
   "execution_count": 366,
   "metadata": {},
   "outputs": [
    {
     "data": {
      "text/plain": [
       "LeveneResult(statistic=3.2851059204522683, pvalue=0.07105133093845678)"
      ]
     },
     "execution_count": 366,
     "metadata": {},
     "output_type": "execute_result"
    }
   ],
   "source": [
    "# Проверим на дисперсию\n",
    "# Результат показал пограничные значения, но всё таки pvalue > 0,05, а значит можем использовать Т-тест\n",
    "stats.levene(arppu_control.revenue, arppu_test.revenue, center='median')"
   ]
  },
  {
   "cell_type": "code",
   "execution_count": 367,
   "metadata": {},
   "outputs": [
    {
     "data": {
      "text/plain": [
       "Ttest_indResult(statistic=-2.6075718280158906, pvalue=0.009639669965207978)"
      ]
     },
     "execution_count": 367,
     "metadata": {},
     "output_type": "execute_result"
    }
   ],
   "source": [
    "# За нулевую гипотезу по метрике ARPPU принимаем, что различий нет pvalue > 0,05\n",
    "# За альтермативную, различия есть pvalue < 0,05\n",
    "# Тест показал, что статистически различия есть pvalue < 0,05, а значит увелечение стоимости премиум подписки,\n",
    "# повысила средний чек пользователей по метрике ARPPU\n",
    "stats.ttest_ind(arppu_control.revenue, arppu_test.revenue)"
   ]
  },
  {
   "cell_type": "code",
   "execution_count": 368,
   "metadata": {},
   "outputs": [],
   "source": [
    "# Проведем тест A/B по метрики CR, в качестве теста подходит критерий Пирсона(Хи квадрат).\n",
    "# Сначала подготовим данные и соединим в одну таблицу.\n",
    "cr_control = user_transactions_control_12 \\\n",
    "    .groupby(['product_type'], as_index=False) \\\n",
    "    .agg({'uid': 'count'}) \\\n",
    "    .rename(columns={'uid': 'control'})\n",
    "cr_test = users_transactions_test \\\n",
    "    .groupby(['product_type'], as_index=False) \\\n",
    "    .agg({'uid': 'count'}) \\\n",
    "    .rename(columns={'uid': 'test'})\n",
    "cr_all = cr_control.merge(cr_test, how='inner', on='product_type')"
   ]
  },
  {
   "cell_type": "code",
   "execution_count": 369,
   "metadata": {},
   "outputs": [
    {
     "name": "stdout",
     "output_type": "stream",
     "text": [
      "pvalue = 0.002211849285885822\n"
     ]
    }
   ],
   "source": [
    "# За нулевую гипотезу по метрики CR принимаем, что различий нет pvalue > 0,05\n",
    "# За альтермативную, различия есть pvalue < 0,05\n",
    "# Результат теста показал, что статистические различия существенны pvalue < 0,05\n",
    "# Это значит, что около 30% клиентов не согласятся с увеличением цены и перестанут ей пользоваться \n",
    "cr = chi2_contingency(cr_all[['control', 'test']])\n",
    "print('pvalue =' f' {cr[1]}')"
   ]
  },
  {
   "cell_type": "markdown",
   "metadata": {},
   "source": [
    "## _Выводы_"
   ]
  },
  {
   "cell_type": "markdown",
   "metadata": {},
   "source": [
    "- В результате проведения тестов, выяснилось, что ожидается увелечиние средней выручки на одного премиум подписчика\n",
    "- Но при этом количество отказов от премиум подписки может достигнуть 30%\n",
    "- Из всего этого я делаю вывод, что на всех увеличивать премиум подписку я не рекомендую. \n",
    "- В итоговой выручке можем больше потерять, чем приобрести.\n",
    "- Возможно есть сегменты, в которых увеличение стоимости премиум подписки пройдет лучше, чем на всю группу.\n",
    "  Попробуем найти эти сегменты."
   ]
  },
  {
   "cell_type": "markdown",
   "metadata": {},
   "source": [
    "# _4.Поиск сегментов_"
   ]
  },
  {
   "cell_type": "code",
   "execution_count": 370,
   "metadata": {},
   "outputs": [
    {
     "data": {
      "text/html": [
       "<div>\n",
       "<style scoped>\n",
       "    .dataframe tbody tr th:only-of-type {\n",
       "        vertical-align: middle;\n",
       "    }\n",
       "\n",
       "    .dataframe tbody tr th {\n",
       "        vertical-align: top;\n",
       "    }\n",
       "\n",
       "    .dataframe thead th {\n",
       "        text-align: right;\n",
       "    }\n",
       "</style>\n",
       "<table border=\"1\" class=\"dataframe\">\n",
       "  <thead>\n",
       "    <tr style=\"text-align: right;\">\n",
       "      <th></th>\n",
       "      <th>country</th>\n",
       "      <th>uid</th>\n",
       "      <th>uid_all</th>\n",
       "      <th>cr_test</th>\n",
       "    </tr>\n",
       "  </thead>\n",
       "  <tbody>\n",
       "    <tr>\n",
       "      <th>0</th>\n",
       "      <td>Argentina</td>\n",
       "      <td>5</td>\n",
       "      <td>396</td>\n",
       "      <td>1.26</td>\n",
       "    </tr>\n",
       "    <tr>\n",
       "      <th>1</th>\n",
       "      <td>Australia</td>\n",
       "      <td>1</td>\n",
       "      <td>62</td>\n",
       "      <td>1.61</td>\n",
       "    </tr>\n",
       "    <tr>\n",
       "      <th>2</th>\n",
       "      <td>Belgium</td>\n",
       "      <td>1</td>\n",
       "      <td>92</td>\n",
       "      <td>1.09</td>\n",
       "    </tr>\n",
       "    <tr>\n",
       "      <th>3</th>\n",
       "      <td>Canada</td>\n",
       "      <td>3</td>\n",
       "      <td>137</td>\n",
       "      <td>2.19</td>\n",
       "    </tr>\n",
       "    <tr>\n",
       "      <th>4</th>\n",
       "      <td>Chile</td>\n",
       "      <td>4</td>\n",
       "      <td>272</td>\n",
       "      <td>1.47</td>\n",
       "    </tr>\n",
       "    <tr>\n",
       "      <th>5</th>\n",
       "      <td>France</td>\n",
       "      <td>4</td>\n",
       "      <td>359</td>\n",
       "      <td>1.11</td>\n",
       "    </tr>\n",
       "    <tr>\n",
       "      <th>6</th>\n",
       "      <td>Germany</td>\n",
       "      <td>2</td>\n",
       "      <td>209</td>\n",
       "      <td>0.96</td>\n",
       "    </tr>\n",
       "    <tr>\n",
       "      <th>7</th>\n",
       "      <td>Israel</td>\n",
       "      <td>2</td>\n",
       "      <td>106</td>\n",
       "      <td>1.89</td>\n",
       "    </tr>\n",
       "    <tr>\n",
       "      <th>8</th>\n",
       "      <td>Italy</td>\n",
       "      <td>7</td>\n",
       "      <td>323</td>\n",
       "      <td>2.17</td>\n",
       "    </tr>\n",
       "    <tr>\n",
       "      <th>9</th>\n",
       "      <td>Spain</td>\n",
       "      <td>6</td>\n",
       "      <td>301</td>\n",
       "      <td>1.99</td>\n",
       "    </tr>\n",
       "    <tr>\n",
       "      <th>10</th>\n",
       "      <td>United Arab Emirates</td>\n",
       "      <td>6</td>\n",
       "      <td>226</td>\n",
       "      <td>2.65</td>\n",
       "    </tr>\n",
       "    <tr>\n",
       "      <th>11</th>\n",
       "      <td>United Kingdom (Great Britain)</td>\n",
       "      <td>5</td>\n",
       "      <td>169</td>\n",
       "      <td>2.96</td>\n",
       "    </tr>\n",
       "    <tr>\n",
       "      <th>12</th>\n",
       "      <td>United States of America</td>\n",
       "      <td>18</td>\n",
       "      <td>1450</td>\n",
       "      <td>1.24</td>\n",
       "    </tr>\n",
       "  </tbody>\n",
       "</table>\n",
       "</div>"
      ],
      "text/plain": [
       "                           country  uid  uid_all  cr_test\n",
       "0                        Argentina    5      396     1.26\n",
       "1                        Australia    1       62     1.61\n",
       "2                          Belgium    1       92     1.09\n",
       "3                           Canada    3      137     2.19\n",
       "4                            Chile    4      272     1.47\n",
       "5                           France    4      359     1.11\n",
       "6                          Germany    2      209     0.96\n",
       "7                           Israel    2      106     1.89\n",
       "8                            Italy    7      323     2.17\n",
       "9                            Spain    6      301     1.99\n",
       "10            United Arab Emirates    6      226     2.65\n",
       "11  United Kingdom (Great Britain)    5      169     2.96\n",
       "12        United States of America   18     1450     1.24"
      ]
     },
     "execution_count": 370,
     "metadata": {},
     "output_type": "execute_result"
    }
   ],
   "source": [
    "# Я предлагаю провести сегментации по странам и посмотреть как изменятся CR и ARPPU \n",
    "# Сегментировать по полу или возрасту считаю не целесообразным по следующим причинам:\n",
    "# Про возраст, во первых пользователи не всегда честно указывают свой возраст, мы это видели и в этих данных, \n",
    "# когда пользователям было 99 лет. Во вторых, в одной стране устанавливать разную стоимость премиум подписки \n",
    "# в зависимости от возраста, на мой взгляд, это очень плохая идея, даже если открыто не афиширую это. Рано или поздно\n",
    "# пользователи узнают об этом и тогда будет скандал, в лучшем случае.И в третьих, данных, чтобы разбить и по странам,\n",
    "# и по возрасту крайне не достаточно, говорить о какой-то статистической значимости будет бесполезно.\n",
    "# Про пол, у нас и так 95% мужчин и только 11 женщин из всех групп, которые хоть за что-то платили, а премиум подписку\n",
    "# купили только 5 человек. Как можно при таких данных можно что-то утверждать про женщин? Только то, что они не очень\n",
    "# заинтересованны в премиум подписках, это и понятно, если смотреть на топ количества оценок, то подавляющее большинство\n",
    "# у женщин. Поэтому мы прежде всего исследуем данные о мужчинах и их поведение.\n",
    "# Сначала посчитаем CR по странам в тестовой группе.\n",
    "we = users_transactions_test.query('product_type == \"premium_no_trial\"') \\\n",
    "    .groupby(['country'], as_index=False)['uid'].nunique()\n",
    "we['uid_all'] = users_transactions_test.groupby(['country'], as_index=False)['uid'].nunique().uid\n",
    "we['cr_test'] = round(we.uid / we.uid_all * 100, 2)\n",
    "we"
   ]
  },
  {
   "cell_type": "code",
   "execution_count": 371,
   "metadata": {},
   "outputs": [
    {
     "data": {
      "text/html": [
       "<div>\n",
       "<style scoped>\n",
       "    .dataframe tbody tr th:only-of-type {\n",
       "        vertical-align: middle;\n",
       "    }\n",
       "\n",
       "    .dataframe tbody tr th {\n",
       "        vertical-align: top;\n",
       "    }\n",
       "\n",
       "    .dataframe thead th {\n",
       "        text-align: right;\n",
       "    }\n",
       "</style>\n",
       "<table border=\"1\" class=\"dataframe\">\n",
       "  <thead>\n",
       "    <tr style=\"text-align: right;\">\n",
       "      <th></th>\n",
       "      <th>country</th>\n",
       "      <th>cr_test</th>\n",
       "      <th>cr_control</th>\n",
       "    </tr>\n",
       "  </thead>\n",
       "  <tbody>\n",
       "    <tr>\n",
       "      <th>0</th>\n",
       "      <td>Argentina</td>\n",
       "      <td>1.26</td>\n",
       "      <td>600.00</td>\n",
       "    </tr>\n",
       "    <tr>\n",
       "      <th>1</th>\n",
       "      <td>Australia</td>\n",
       "      <td>1.61</td>\n",
       "      <td>0.25</td>\n",
       "    </tr>\n",
       "    <tr>\n",
       "      <th>2</th>\n",
       "      <td>Belgium</td>\n",
       "      <td>1.09</td>\n",
       "      <td>5.94</td>\n",
       "    </tr>\n",
       "    <tr>\n",
       "      <th>3</th>\n",
       "      <td>Canada</td>\n",
       "      <td>2.19</td>\n",
       "      <td>250.00</td>\n",
       "    </tr>\n",
       "    <tr>\n",
       "      <th>4</th>\n",
       "      <td>Chile</td>\n",
       "      <td>1.47</td>\n",
       "      <td>1000.00</td>\n",
       "    </tr>\n",
       "    <tr>\n",
       "      <th>5</th>\n",
       "      <td>France</td>\n",
       "      <td>1.11</td>\n",
       "      <td>10.10</td>\n",
       "    </tr>\n",
       "    <tr>\n",
       "      <th>6</th>\n",
       "      <td>Germany</td>\n",
       "      <td>0.96</td>\n",
       "      <td>700.00</td>\n",
       "    </tr>\n",
       "    <tr>\n",
       "      <th>7</th>\n",
       "      <td>Israel</td>\n",
       "      <td>1.89</td>\n",
       "      <td>2.09</td>\n",
       "    </tr>\n",
       "    <tr>\n",
       "      <th>8</th>\n",
       "      <td>Italy</td>\n",
       "      <td>2.17</td>\n",
       "      <td>850.00</td>\n",
       "    </tr>\n",
       "    <tr>\n",
       "      <th>9</th>\n",
       "      <td>Spain</td>\n",
       "      <td>1.99</td>\n",
       "      <td>750.00</td>\n",
       "    </tr>\n",
       "    <tr>\n",
       "      <th>10</th>\n",
       "      <td>United Arab Emirates</td>\n",
       "      <td>2.65</td>\n",
       "      <td>0.94</td>\n",
       "    </tr>\n",
       "    <tr>\n",
       "      <th>11</th>\n",
       "      <td>United Kingdom (Great Britain)</td>\n",
       "      <td>2.96</td>\n",
       "      <td>1300.00</td>\n",
       "    </tr>\n",
       "    <tr>\n",
       "      <th>12</th>\n",
       "      <td>United States of America</td>\n",
       "      <td>1.24</td>\n",
       "      <td>14.87</td>\n",
       "    </tr>\n",
       "  </tbody>\n",
       "</table>\n",
       "</div>"
      ],
      "text/plain": [
       "                           country  cr_test  cr_control\n",
       "0                        Argentina     1.26      600.00\n",
       "1                        Australia     1.61        0.25\n",
       "2                          Belgium     1.09        5.94\n",
       "3                           Canada     2.19      250.00\n",
       "4                            Chile     1.47     1000.00\n",
       "5                           France     1.11       10.10\n",
       "6                          Germany     0.96      700.00\n",
       "7                           Israel     1.89        2.09\n",
       "8                            Italy     2.17      850.00\n",
       "9                            Spain     1.99      750.00\n",
       "10            United Arab Emirates     2.65        0.94\n",
       "11  United Kingdom (Great Britain)     2.96     1300.00\n",
       "12        United States of America     1.24       14.87"
      ]
     },
     "execution_count": 371,
     "metadata": {},
     "output_type": "execute_result"
    }
   ],
   "source": [
    "# Теперь CR в контрольной группе и соединим две таблицы.\n",
    "we_c = user_transactions_control_12.query('product_type == \"premium_no_trial\"') \\\n",
    "    .groupby(['country'], as_index=False)['uid'].nunique()\n",
    "we_c['uid_all'] = user_transactions_control_12.groupby(['country'], as_index=False)['uid'].nunique().uid\n",
    "we_c['cr_control'] = round(we_c.uid / we_c.uid_all * 100, 2)\n",
    "we_all = we.merge(we_c, how='inner', on='country')\n",
    "we_all = we_all[['country', 'cr_test', 'cr_control']]\n",
    "we_all"
   ]
  },
  {
   "cell_type": "code",
   "execution_count": 372,
   "metadata": {},
   "outputs": [
    {
     "data": {
      "text/html": [
       "<div>\n",
       "<style scoped>\n",
       "    .dataframe tbody tr th:only-of-type {\n",
       "        vertical-align: middle;\n",
       "    }\n",
       "\n",
       "    .dataframe tbody tr th {\n",
       "        vertical-align: top;\n",
       "    }\n",
       "\n",
       "    .dataframe thead th {\n",
       "        text-align: right;\n",
       "    }\n",
       "</style>\n",
       "<table border=\"1\" class=\"dataframe\">\n",
       "  <thead>\n",
       "    <tr style=\"text-align: right;\">\n",
       "      <th></th>\n",
       "      <th>country</th>\n",
       "      <th>cr_test</th>\n",
       "      <th>cr_control</th>\n",
       "      <th>delta_cr</th>\n",
       "    </tr>\n",
       "  </thead>\n",
       "  <tbody>\n",
       "    <tr>\n",
       "      <th>10</th>\n",
       "      <td>United Arab Emirates</td>\n",
       "      <td>2.65</td>\n",
       "      <td>0.94</td>\n",
       "      <td>1.71</td>\n",
       "    </tr>\n",
       "    <tr>\n",
       "      <th>1</th>\n",
       "      <td>Australia</td>\n",
       "      <td>1.61</td>\n",
       "      <td>0.25</td>\n",
       "      <td>1.36</td>\n",
       "    </tr>\n",
       "    <tr>\n",
       "      <th>7</th>\n",
       "      <td>Israel</td>\n",
       "      <td>1.89</td>\n",
       "      <td>2.09</td>\n",
       "      <td>-0.20</td>\n",
       "    </tr>\n",
       "    <tr>\n",
       "      <th>2</th>\n",
       "      <td>Belgium</td>\n",
       "      <td>1.09</td>\n",
       "      <td>5.94</td>\n",
       "      <td>-4.85</td>\n",
       "    </tr>\n",
       "    <tr>\n",
       "      <th>5</th>\n",
       "      <td>France</td>\n",
       "      <td>1.11</td>\n",
       "      <td>10.10</td>\n",
       "      <td>-8.99</td>\n",
       "    </tr>\n",
       "    <tr>\n",
       "      <th>12</th>\n",
       "      <td>United States of America</td>\n",
       "      <td>1.24</td>\n",
       "      <td>14.87</td>\n",
       "      <td>-13.63</td>\n",
       "    </tr>\n",
       "    <tr>\n",
       "      <th>3</th>\n",
       "      <td>Canada</td>\n",
       "      <td>2.19</td>\n",
       "      <td>250.00</td>\n",
       "      <td>-247.81</td>\n",
       "    </tr>\n",
       "    <tr>\n",
       "      <th>0</th>\n",
       "      <td>Argentina</td>\n",
       "      <td>1.26</td>\n",
       "      <td>600.00</td>\n",
       "      <td>-598.74</td>\n",
       "    </tr>\n",
       "    <tr>\n",
       "      <th>6</th>\n",
       "      <td>Germany</td>\n",
       "      <td>0.96</td>\n",
       "      <td>700.00</td>\n",
       "      <td>-699.04</td>\n",
       "    </tr>\n",
       "    <tr>\n",
       "      <th>9</th>\n",
       "      <td>Spain</td>\n",
       "      <td>1.99</td>\n",
       "      <td>750.00</td>\n",
       "      <td>-748.01</td>\n",
       "    </tr>\n",
       "    <tr>\n",
       "      <th>8</th>\n",
       "      <td>Italy</td>\n",
       "      <td>2.17</td>\n",
       "      <td>850.00</td>\n",
       "      <td>-847.83</td>\n",
       "    </tr>\n",
       "    <tr>\n",
       "      <th>4</th>\n",
       "      <td>Chile</td>\n",
       "      <td>1.47</td>\n",
       "      <td>1000.00</td>\n",
       "      <td>-998.53</td>\n",
       "    </tr>\n",
       "    <tr>\n",
       "      <th>11</th>\n",
       "      <td>United Kingdom (Great Britain)</td>\n",
       "      <td>2.96</td>\n",
       "      <td>1300.00</td>\n",
       "      <td>-1297.04</td>\n",
       "    </tr>\n",
       "  </tbody>\n",
       "</table>\n",
       "</div>"
      ],
      "text/plain": [
       "                           country  cr_test  cr_control  delta_cr\n",
       "10            United Arab Emirates     2.65        0.94      1.71\n",
       "1                        Australia     1.61        0.25      1.36\n",
       "7                           Israel     1.89        2.09     -0.20\n",
       "2                          Belgium     1.09        5.94     -4.85\n",
       "5                           France     1.11       10.10     -8.99\n",
       "12        United States of America     1.24       14.87    -13.63\n",
       "3                           Canada     2.19      250.00   -247.81\n",
       "0                        Argentina     1.26      600.00   -598.74\n",
       "6                          Germany     0.96      700.00   -699.04\n",
       "9                            Spain     1.99      750.00   -748.01\n",
       "8                            Italy     2.17      850.00   -847.83\n",
       "4                            Chile     1.47     1000.00   -998.53\n",
       "11  United Kingdom (Great Britain)     2.96     1300.00  -1297.04"
      ]
     },
     "execution_count": 372,
     "metadata": {},
     "output_type": "execute_result"
    }
   ],
   "source": [
    "# Как мы видим, только две страны показали положительную разницу.\n",
    "# Посмотрим статистически значимые ли там различия.\n",
    "we_all['delta_cr'] = we_all.cr_test - we_all.cr_control\n",
    "we_all.sort_values('delta_cr', ascending=False)"
   ]
  },
  {
   "cell_type": "code",
   "execution_count": 373,
   "metadata": {},
   "outputs": [
    {
     "data": {
      "text/html": [
       "<div>\n",
       "<style scoped>\n",
       "    .dataframe tbody tr th:only-of-type {\n",
       "        vertical-align: middle;\n",
       "    }\n",
       "\n",
       "    .dataframe tbody tr th {\n",
       "        vertical-align: top;\n",
       "    }\n",
       "\n",
       "    .dataframe thead th {\n",
       "        text-align: right;\n",
       "    }\n",
       "</style>\n",
       "<table border=\"1\" class=\"dataframe\">\n",
       "  <thead>\n",
       "    <tr style=\"text-align: right;\">\n",
       "      <th></th>\n",
       "      <th>product_type</th>\n",
       "      <th>control</th>\n",
       "      <th>test</th>\n",
       "    </tr>\n",
       "  </thead>\n",
       "  <tbody>\n",
       "    <tr>\n",
       "      <th>0</th>\n",
       "      <td>0</td>\n",
       "      <td>406</td>\n",
       "      <td>217</td>\n",
       "    </tr>\n",
       "    <tr>\n",
       "      <th>1</th>\n",
       "      <td>coins</td>\n",
       "      <td>5</td>\n",
       "      <td>1</td>\n",
       "    </tr>\n",
       "    <tr>\n",
       "      <th>2</th>\n",
       "      <td>other_type</td>\n",
       "      <td>2</td>\n",
       "      <td>1</td>\n",
       "    </tr>\n",
       "    <tr>\n",
       "      <th>3</th>\n",
       "      <td>premium_no_trial</td>\n",
       "      <td>7</td>\n",
       "      <td>6</td>\n",
       "    </tr>\n",
       "    <tr>\n",
       "      <th>4</th>\n",
       "      <td>trial_premium</td>\n",
       "      <td>4</td>\n",
       "      <td>3</td>\n",
       "    </tr>\n",
       "  </tbody>\n",
       "</table>\n",
       "</div>"
      ],
      "text/plain": [
       "       product_type  control  test\n",
       "0                 0      406   217\n",
       "1             coins        5     1\n",
       "2        other_type        2     1\n",
       "3  premium_no_trial        7     6\n",
       "4     trial_premium        4     3"
      ]
     },
     "execution_count": 373,
     "metadata": {},
     "output_type": "execute_result"
    }
   ],
   "source": [
    "# Проведем A|B тест по метрике CR для страны ОАЭ, поможет нам в этом критерий Пирсона. \n",
    "cr_control_uae = user_transactions_control_12.query('country == \"United Arab Emirates\"') \\\n",
    "    .groupby(['product_type'], as_index=False)\\\n",
    "    .agg({'uid': 'count'}) \\\n",
    "    .rename(columns={'uid': 'control'})\n",
    "cr_test_uae = users_transactions_test.query('country == \"United Arab Emirates\"') \\\n",
    "    .groupby(['product_type'], as_index=False) \\\n",
    "    .agg({'uid': 'count'}) \\\n",
    "    .rename(columns={'uid': 'test'})\n",
    "cr_all_uae = cr_control_uae.merge(cr_test_uae, how='inner', on='product_type')\n",
    "cr_all_uae"
   ]
  },
  {
   "cell_type": "code",
   "execution_count": 374,
   "metadata": {},
   "outputs": [
    {
     "name": "stdout",
     "output_type": "stream",
     "text": [
      "pvalue = 0.7726278239318607\n"
     ]
    }
   ],
   "source": [
    "# Тест показал, что статистически значимых различий нет pvalue>0,05\n",
    "cr_uae = chi2_contingency(cr_all_uae[['control', 'test']])\n",
    "print('pvalue =' f' {cr_uae[1]}')"
   ]
  },
  {
   "cell_type": "code",
   "execution_count": 375,
   "metadata": {},
   "outputs": [
    {
     "data": {
      "text/html": [
       "<div>\n",
       "<style scoped>\n",
       "    .dataframe tbody tr th:only-of-type {\n",
       "        vertical-align: middle;\n",
       "    }\n",
       "\n",
       "    .dataframe tbody tr th {\n",
       "        vertical-align: top;\n",
       "    }\n",
       "\n",
       "    .dataframe thead th {\n",
       "        text-align: right;\n",
       "    }\n",
       "</style>\n",
       "<table border=\"1\" class=\"dataframe\">\n",
       "  <thead>\n",
       "    <tr style=\"text-align: right;\">\n",
       "      <th></th>\n",
       "      <th>product_type</th>\n",
       "      <th>control</th>\n",
       "      <th>test</th>\n",
       "    </tr>\n",
       "  </thead>\n",
       "  <tbody>\n",
       "    <tr>\n",
       "      <th>0</th>\n",
       "      <td>0</td>\n",
       "      <td>255</td>\n",
       "      <td>131</td>\n",
       "    </tr>\n",
       "    <tr>\n",
       "      <th>1</th>\n",
       "      <td>coins</td>\n",
       "      <td>8</td>\n",
       "      <td>4</td>\n",
       "    </tr>\n",
       "    <tr>\n",
       "      <th>2</th>\n",
       "      <td>other_type</td>\n",
       "      <td>1</td>\n",
       "      <td>1</td>\n",
       "    </tr>\n",
       "    <tr>\n",
       "      <th>3</th>\n",
       "      <td>premium_no_trial</td>\n",
       "      <td>5</td>\n",
       "      <td>4</td>\n",
       "    </tr>\n",
       "    <tr>\n",
       "      <th>4</th>\n",
       "      <td>trial_premium</td>\n",
       "      <td>6</td>\n",
       "      <td>2</td>\n",
       "    </tr>\n",
       "  </tbody>\n",
       "</table>\n",
       "</div>"
      ],
      "text/plain": [
       "       product_type  control  test\n",
       "0                 0      255   131\n",
       "1             coins        8     4\n",
       "2        other_type        1     1\n",
       "3  premium_no_trial        5     4\n",
       "4     trial_premium        6     2"
      ]
     },
     "execution_count": 375,
     "metadata": {},
     "output_type": "execute_result"
    }
   ],
   "source": [
    "# Проведем тот же тест для Канады.\n",
    "cr_control_can = user_transactions_control_12.query('country == \"Canada\"') \\\n",
    "    .groupby(['product_type'], as_index=False)\\\n",
    "    .agg({'uid': 'count'}) \\\n",
    "    .rename(columns={'uid': 'control'})\n",
    "cr_test_can = users_transactions_test.query('country == \"Canada\"') \\\n",
    "    .groupby(['product_type'], as_index=False) \\\n",
    "    .agg({'uid': 'count'}) \\\n",
    "    .rename(columns={'uid': 'test'})\n",
    "cr_all_can = cr_control_can.merge(cr_test_can, how='inner', on='product_type')\n",
    "cr_all_can"
   ]
  },
  {
   "cell_type": "code",
   "execution_count": 376,
   "metadata": {},
   "outputs": [
    {
     "name": "stdout",
     "output_type": "stream",
     "text": [
      "pvalue = 0.916355366220799\n"
     ]
    }
   ],
   "source": [
    "# Тест показал, что статистически значимых различий нет, pvalue>0,05\n",
    "cr_can = chi2_contingency(cr_all_can[['control', 'test']])\n",
    "print('pvalue =' f' {cr_can[1]}')"
   ]
  },
  {
   "cell_type": "code",
   "execution_count": 377,
   "metadata": {},
   "outputs": [],
   "source": [
    "# Теперь посчитаем метрику ARPPU по всем странам\n",
    "result_all = pd.DataFrame(columns=['test', 'control'])"
   ]
  },
  {
   "cell_type": "code",
   "execution_count": 378,
   "metadata": {},
   "outputs": [],
   "source": [
    "# Создам функцию для подсчета метрики\n",
    "def arppu_ab_te(base_test, base_control, countries):\n",
    "    arppu_test_control = pd.DataFrame(\n",
    "        [\n",
    "            [\n",
    "                base_test.query('product_type == \"premium_no_trial\"')[\"revenue\"]\n",
    "                .sum() / base_test.query('product_type == \"premium_no_trial\"')[\"uid\"].nunique()\n",
    "            ]\n",
    "        ],\n",
    "        index=[countries],\n",
    "        columns=[\"test\"],\n",
    "    )\n",
    "\n",
    "    arppu_test_control[\"control\"] = (\n",
    "        base_control.query('product_type == \"premium_no_trial\"')[\"revenue\"]\n",
    "        .sum() / base_control.query('product_type == \"premium_no_trial\"')[\"uid\"].nunique()\n",
    "    )\n",
    "\n",
    "    return arppu_test_control\n"
   ]
  },
  {
   "cell_type": "code",
   "execution_count": null,
   "metadata": {},
   "outputs": [],
   "source": [
    "country_list = ['United States of America', 'Italy', 'Spain', 'United Arab Emirates', 'Argentina', \n",
    "                'United Kingdom (Great Britain)', 'Chile', 'France', 'Canada', 'Germany', 'Israel',\n",
    "                'Australia', 'Belgium']"
   ]
  },
  {
   "cell_type": "code",
   "execution_count": 379,
   "metadata": {},
   "outputs": [],
   "source": [
    "for i in country_list:\n",
    "    countries = i\n",
    "    test_arppu = users_transactions_test.query('country == @countries')\n",
    "    control_arppu = user_transactions_control_12.query('country == @countries')\n",
    "    rf = arppu_ab_te(test_arppu, control_arppu, countries)\n",
    "    result_all = result_all.append(rf)"
   ]
  },
  {
   "cell_type": "code",
   "execution_count": 380,
   "metadata": {},
   "outputs": [],
   "source": [
    "result_all['delta_arppu'] = result_all.test - result_all.control"
   ]
  },
  {
   "cell_type": "code",
   "execution_count": 381,
   "metadata": {},
   "outputs": [
    {
     "data": {
      "text/html": [
       "<div>\n",
       "<style scoped>\n",
       "    .dataframe tbody tr th:only-of-type {\n",
       "        vertical-align: middle;\n",
       "    }\n",
       "\n",
       "    .dataframe tbody tr th {\n",
       "        vertical-align: top;\n",
       "    }\n",
       "\n",
       "    .dataframe thead th {\n",
       "        text-align: right;\n",
       "    }\n",
       "</style>\n",
       "<table border=\"1\" class=\"dataframe\">\n",
       "  <thead>\n",
       "    <tr style=\"text-align: right;\">\n",
       "      <th></th>\n",
       "      <th>test</th>\n",
       "      <th>control</th>\n",
       "      <th>delta_arppu</th>\n",
       "    </tr>\n",
       "  </thead>\n",
       "  <tbody>\n",
       "    <tr>\n",
       "      <th>Spain</th>\n",
       "      <td>24918.833333</td>\n",
       "      <td>10338.466667</td>\n",
       "      <td>14580.366667</td>\n",
       "    </tr>\n",
       "    <tr>\n",
       "      <th>United Arab Emirates</th>\n",
       "      <td>25789.833333</td>\n",
       "      <td>16433.857143</td>\n",
       "      <td>9355.976190</td>\n",
       "    </tr>\n",
       "    <tr>\n",
       "      <th>Australia</th>\n",
       "      <td>12597.000000</td>\n",
       "      <td>4153.500000</td>\n",
       "      <td>8443.500000</td>\n",
       "    </tr>\n",
       "    <tr>\n",
       "      <th>Belgium</th>\n",
       "      <td>12597.000000</td>\n",
       "      <td>5956.166667</td>\n",
       "      <td>6640.833333</td>\n",
       "    </tr>\n",
       "    <tr>\n",
       "      <th>Israel</th>\n",
       "      <td>12597.000000</td>\n",
       "      <td>6030.916667</td>\n",
       "      <td>6566.083333</td>\n",
       "    </tr>\n",
       "    <tr>\n",
       "      <th>Chile</th>\n",
       "      <td>12272.000000</td>\n",
       "      <td>5825.300000</td>\n",
       "      <td>6446.700000</td>\n",
       "    </tr>\n",
       "    <tr>\n",
       "      <th>France</th>\n",
       "      <td>10016.500000</td>\n",
       "      <td>5314.400000</td>\n",
       "      <td>4702.100000</td>\n",
       "    </tr>\n",
       "    <tr>\n",
       "      <th>Canada</th>\n",
       "      <td>8159.666667</td>\n",
       "      <td>4877.600000</td>\n",
       "      <td>3282.066667</td>\n",
       "    </tr>\n",
       "    <tr>\n",
       "      <th>Argentina</th>\n",
       "      <td>9882.600000</td>\n",
       "      <td>6724.250000</td>\n",
       "      <td>3158.350000</td>\n",
       "    </tr>\n",
       "    <tr>\n",
       "      <th>United States of America</th>\n",
       "      <td>9208.333333</td>\n",
       "      <td>7275.741379</td>\n",
       "      <td>1932.591954</td>\n",
       "    </tr>\n",
       "    <tr>\n",
       "      <th>United Kingdom (Great Britain)</th>\n",
       "      <td>6466.200000</td>\n",
       "      <td>7007.000000</td>\n",
       "      <td>-540.800000</td>\n",
       "    </tr>\n",
       "    <tr>\n",
       "      <th>Germany</th>\n",
       "      <td>5167.500000</td>\n",
       "      <td>5816.571429</td>\n",
       "      <td>-649.071429</td>\n",
       "    </tr>\n",
       "    <tr>\n",
       "      <th>Italy</th>\n",
       "      <td>8457.428571</td>\n",
       "      <td>9142.058824</td>\n",
       "      <td>-684.630252</td>\n",
       "    </tr>\n",
       "  </tbody>\n",
       "</table>\n",
       "</div>"
      ],
      "text/plain": [
       "                                        test       control   delta_arppu\n",
       "Spain                           24918.833333  10338.466667  14580.366667\n",
       "United Arab Emirates            25789.833333  16433.857143   9355.976190\n",
       "Australia                       12597.000000   4153.500000   8443.500000\n",
       "Belgium                         12597.000000   5956.166667   6640.833333\n",
       "Israel                          12597.000000   6030.916667   6566.083333\n",
       "Chile                           12272.000000   5825.300000   6446.700000\n",
       "France                          10016.500000   5314.400000   4702.100000\n",
       "Canada                           8159.666667   4877.600000   3282.066667\n",
       "Argentina                        9882.600000   6724.250000   3158.350000\n",
       "United States of America         9208.333333   7275.741379   1932.591954\n",
       "United Kingdom (Great Britain)   6466.200000   7007.000000   -540.800000\n",
       "Germany                          5167.500000   5816.571429   -649.071429\n",
       "Italy                            8457.428571   9142.058824   -684.630252"
      ]
     },
     "execution_count": 381,
     "metadata": {},
     "output_type": "execute_result"
    }
   ],
   "source": [
    "# Из полученной таблицы видно, что ARPPU в тестовой группе почти во всех странах больше, чем в контрольной.\n",
    "# Проверим на статзначимость первых двух лидеров.\n",
    "result_all.sort_values('delta_arppu', ascending=False)"
   ]
  },
  {
   "cell_type": "code",
   "execution_count": 382,
   "metadata": {},
   "outputs": [
    {
     "data": {
      "text/plain": [
       "LeveneResult(statistic=1.4111005269309833, pvalue=0.24951177808263528)"
      ]
     },
     "execution_count": 382,
     "metadata": {},
     "output_type": "execute_result"
    }
   ],
   "source": [
    "# Проведем А/В тест, используя Т тест\n",
    "# Для начала подготовим данные и проверим на дисперсию \n",
    "arppu_control_sp = user_transactions_control_12 \\\n",
    "    .query('product_type == \"premium_no_trial\" and country == \"Spain\"')\\\n",
    "    .groupby(['uid'], as_index=False).agg({'revenue': 'sum'})\n",
    "arppu_test_sp = users_transactions_test \\\n",
    "    .query('product_type == \"premium_no_trial\" and country == \"Spain\"')\\\n",
    "    .groupby(['uid'], as_index=False).agg({'revenue': 'sum'})\n",
    "stats.levene(arppu_control_sp.revenue, arppu_test_sp.revenue, center='median')"
   ]
  },
  {
   "cell_type": "code",
   "execution_count": 383,
   "metadata": {},
   "outputs": [
    {
     "data": {
      "text/plain": [
       "Ttest_indResult(statistic=-1.1778882391525292, pvalue=0.2533846158977922)"
      ]
     },
     "execution_count": 383,
     "metadata": {},
     "output_type": "execute_result"
    }
   ],
   "source": [
    "# Тест показал, что значимых различий нет.\n",
    "stats.ttest_ind(arppu_control_sp.revenue, arppu_test_sp.revenue)"
   ]
  },
  {
   "cell_type": "code",
   "execution_count": 384,
   "metadata": {},
   "outputs": [
    {
     "data": {
      "text/plain": [
       "LeveneResult(statistic=0.11819371189667542, pvalue=0.737483506534627)"
      ]
     },
     "execution_count": 384,
     "metadata": {},
     "output_type": "execute_result"
    }
   ],
   "source": [
    "# Проверим следующую страну \n",
    "# Для начала подготовим данные и проверим на дисперсию\n",
    "arppu_control_uae = user_transactions_control_12 \\\n",
    "    .query('product_type == \"premium_no_trial\" and country == \"United Arab Emirates\"')\\\n",
    "    .groupby(['uid'], as_index=False).agg({'revenue': 'sum'})\n",
    "arppu_test_uae = users_transactions_test \\\n",
    "    .query('product_type == \"premium_no_trial\" and country == \"United Arab Emirates\"')\\\n",
    "    .groupby(['uid'], as_index=False).agg({'revenue': 'sum'})\n",
    "stats.levene(arppu_control_uae.revenue, arppu_test_uae.revenue, center='median')"
   ]
  },
  {
   "cell_type": "code",
   "execution_count": 385,
   "metadata": {},
   "outputs": [
    {
     "data": {
      "text/plain": [
       "Ttest_indResult(statistic=-0.46757967653072513, pvalue=0.649211778611293)"
      ]
     },
     "execution_count": 385,
     "metadata": {},
     "output_type": "execute_result"
    }
   ],
   "source": [
    "# Тест так же показал, что значимых различий нет.\n",
    "# Другие страны нет смысла проверять, так как даже в абсолютных значениях, различия не так значимы.\n",
    "stats.ttest_ind(arppu_control_uae.revenue, arppu_test_uae.revenue)"
   ]
  },
  {
   "cell_type": "markdown",
   "metadata": {},
   "source": [
    "# ___5. ИТОГИ___"
   ]
  },
  {
   "cell_type": "markdown",
   "metadata": {},
   "source": [
    "- По итогам А/В теста было выявленно, что есть статзначимые различия в метрике ARPPU, но при этом конверсия CR \n",
    "  упадет на 30%\n",
    "- А это значит, что не получится добится увеличение выручки за счет увелечение стоимости премиум подписки на всех \n",
    "  пользователей.\n",
    "- __Я не рекомендую увеличивать стоимость подписки для всех пользователей.__\n",
    "- Из-за недостаточного количества данных нельзя точно утверждать в каких странах имеет смысл повышать подписку, я \n",
    "  бы рекомендавал в странах ОАЭ, Австралия, Испания, Канада провести дополнительное исследование.  "
   ]
  }
 ],
 "metadata": {
  "kernelspec": {
   "display_name": "Python 3",
   "language": "python",
   "name": "python3"
  },
  "language_info": {
   "codemirror_mode": {
    "name": "ipython",
    "version": 3
   },
   "file_extension": ".py",
   "mimetype": "text/x-python",
   "name": "python",
   "nbconvert_exporter": "python",
   "pygments_lexer": "ipython3",
   "version": "3.7.3"
  }
 },
 "nbformat": 4,
 "nbformat_minor": 4
}
